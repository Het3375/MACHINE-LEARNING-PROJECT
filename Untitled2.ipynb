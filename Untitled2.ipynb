{
  "nbformat": 4,
  "nbformat_minor": 0,
  "metadata": {
    "colab": {
      "provenance": [],
      "authorship_tag": "ABX9TyPfCWuUSzLRl2DE7mwyqLku",
      "include_colab_link": true
    },
    "kernelspec": {
      "name": "python3",
      "display_name": "Python 3"
    },
    "language_info": {
      "name": "python"
    }
  },
  "cells": [
    {
      "cell_type": "markdown",
      "metadata": {
        "id": "view-in-github",
        "colab_type": "text"
      },
      "source": [
        "<a href=\"https://colab.research.google.com/github/Het3375/MACHINE-LEARNING-PROJECT/blob/main/Untitled2.ipynb\" target=\"_parent\"><img src=\"https://colab.research.google.com/assets/colab-badge.svg\" alt=\"Open In Colab\"/></a>"
      ]
    },
    {
      "cell_type": "code",
      "execution_count": 73,
      "metadata": {
        "id": "o9p6R8KhYcHI"
      },
      "outputs": [],
      "source": [
        "import pandas as pd\n",
        "import numpy as np"
      ]
    },
    {
      "cell_type": "code",
      "source": [
        "housing=pd.read_csv('data.csv')"
      ],
      "metadata": {
        "id": "tZ2c3o9MYqRo"
      },
      "execution_count": 74,
      "outputs": []
    },
    {
      "cell_type": "code",
      "source": [
        "housing.head()"
      ],
      "metadata": {
        "colab": {
          "base_uri": "https://localhost:8080/",
          "height": 206
        },
        "id": "F2YaWVNEYxSp",
        "outputId": "256bc4da-e736-41b6-e7a6-fa7d37baaebb"
      },
      "execution_count": 75,
      "outputs": [
        {
          "output_type": "execute_result",
          "data": {
            "text/plain": [
              "      CRIM    ZN  INDUS  CHAS    NOX     RM   AGE     DIS  RAD  TAX  PTRATIO  \\\n",
              "0  0.00632  18.0   2.31     0  0.538  6.575  65.2  4.0900    1  296     15.3   \n",
              "1  0.02731   0.0   7.07     0  0.469  6.421  78.9  4.9671    2  242     17.8   \n",
              "2  0.02729   0.0   7.07     0  0.469  7.185  61.1  4.9671    2  242     17.8   \n",
              "3  0.03237   0.0   2.18     0  0.458  6.998  45.8  6.0622    3  222     18.7   \n",
              "4  0.06905   0.0   2.18     0  0.458  7.147  54.2  6.0622    3  222     18.7   \n",
              "\n",
              "        B  LSTAT  MEDV  \n",
              "0  396.90   4.98  24.0  \n",
              "1  396.90   9.14  21.6  \n",
              "2  392.83   4.03  34.7  \n",
              "3  394.63   2.94  33.4  \n",
              "4  396.90   5.33  36.2  "
            ],
            "text/html": [
              "\n",
              "  <div id=\"df-4c89b5ae-ddf7-4f32-af36-fd5309953a56\">\n",
              "    <div class=\"colab-df-container\">\n",
              "      <div>\n",
              "<style scoped>\n",
              "    .dataframe tbody tr th:only-of-type {\n",
              "        vertical-align: middle;\n",
              "    }\n",
              "\n",
              "    .dataframe tbody tr th {\n",
              "        vertical-align: top;\n",
              "    }\n",
              "\n",
              "    .dataframe thead th {\n",
              "        text-align: right;\n",
              "    }\n",
              "</style>\n",
              "<table border=\"1\" class=\"dataframe\">\n",
              "  <thead>\n",
              "    <tr style=\"text-align: right;\">\n",
              "      <th></th>\n",
              "      <th>CRIM</th>\n",
              "      <th>ZN</th>\n",
              "      <th>INDUS</th>\n",
              "      <th>CHAS</th>\n",
              "      <th>NOX</th>\n",
              "      <th>RM</th>\n",
              "      <th>AGE</th>\n",
              "      <th>DIS</th>\n",
              "      <th>RAD</th>\n",
              "      <th>TAX</th>\n",
              "      <th>PTRATIO</th>\n",
              "      <th>B</th>\n",
              "      <th>LSTAT</th>\n",
              "      <th>MEDV</th>\n",
              "    </tr>\n",
              "  </thead>\n",
              "  <tbody>\n",
              "    <tr>\n",
              "      <th>0</th>\n",
              "      <td>0.00632</td>\n",
              "      <td>18.0</td>\n",
              "      <td>2.31</td>\n",
              "      <td>0</td>\n",
              "      <td>0.538</td>\n",
              "      <td>6.575</td>\n",
              "      <td>65.2</td>\n",
              "      <td>4.0900</td>\n",
              "      <td>1</td>\n",
              "      <td>296</td>\n",
              "      <td>15.3</td>\n",
              "      <td>396.90</td>\n",
              "      <td>4.98</td>\n",
              "      <td>24.0</td>\n",
              "    </tr>\n",
              "    <tr>\n",
              "      <th>1</th>\n",
              "      <td>0.02731</td>\n",
              "      <td>0.0</td>\n",
              "      <td>7.07</td>\n",
              "      <td>0</td>\n",
              "      <td>0.469</td>\n",
              "      <td>6.421</td>\n",
              "      <td>78.9</td>\n",
              "      <td>4.9671</td>\n",
              "      <td>2</td>\n",
              "      <td>242</td>\n",
              "      <td>17.8</td>\n",
              "      <td>396.90</td>\n",
              "      <td>9.14</td>\n",
              "      <td>21.6</td>\n",
              "    </tr>\n",
              "    <tr>\n",
              "      <th>2</th>\n",
              "      <td>0.02729</td>\n",
              "      <td>0.0</td>\n",
              "      <td>7.07</td>\n",
              "      <td>0</td>\n",
              "      <td>0.469</td>\n",
              "      <td>7.185</td>\n",
              "      <td>61.1</td>\n",
              "      <td>4.9671</td>\n",
              "      <td>2</td>\n",
              "      <td>242</td>\n",
              "      <td>17.8</td>\n",
              "      <td>392.83</td>\n",
              "      <td>4.03</td>\n",
              "      <td>34.7</td>\n",
              "    </tr>\n",
              "    <tr>\n",
              "      <th>3</th>\n",
              "      <td>0.03237</td>\n",
              "      <td>0.0</td>\n",
              "      <td>2.18</td>\n",
              "      <td>0</td>\n",
              "      <td>0.458</td>\n",
              "      <td>6.998</td>\n",
              "      <td>45.8</td>\n",
              "      <td>6.0622</td>\n",
              "      <td>3</td>\n",
              "      <td>222</td>\n",
              "      <td>18.7</td>\n",
              "      <td>394.63</td>\n",
              "      <td>2.94</td>\n",
              "      <td>33.4</td>\n",
              "    </tr>\n",
              "    <tr>\n",
              "      <th>4</th>\n",
              "      <td>0.06905</td>\n",
              "      <td>0.0</td>\n",
              "      <td>2.18</td>\n",
              "      <td>0</td>\n",
              "      <td>0.458</td>\n",
              "      <td>7.147</td>\n",
              "      <td>54.2</td>\n",
              "      <td>6.0622</td>\n",
              "      <td>3</td>\n",
              "      <td>222</td>\n",
              "      <td>18.7</td>\n",
              "      <td>396.90</td>\n",
              "      <td>5.33</td>\n",
              "      <td>36.2</td>\n",
              "    </tr>\n",
              "  </tbody>\n",
              "</table>\n",
              "</div>\n",
              "      <button class=\"colab-df-convert\" onclick=\"convertToInteractive('df-4c89b5ae-ddf7-4f32-af36-fd5309953a56')\"\n",
              "              title=\"Convert this dataframe to an interactive table.\"\n",
              "              style=\"display:none;\">\n",
              "        \n",
              "  <svg xmlns=\"http://www.w3.org/2000/svg\" height=\"24px\"viewBox=\"0 0 24 24\"\n",
              "       width=\"24px\">\n",
              "    <path d=\"M0 0h24v24H0V0z\" fill=\"none\"/>\n",
              "    <path d=\"M18.56 5.44l.94 2.06.94-2.06 2.06-.94-2.06-.94-.94-2.06-.94 2.06-2.06.94zm-11 1L8.5 8.5l.94-2.06 2.06-.94-2.06-.94L8.5 2.5l-.94 2.06-2.06.94zm10 10l.94 2.06.94-2.06 2.06-.94-2.06-.94-.94-2.06-.94 2.06-2.06.94z\"/><path d=\"M17.41 7.96l-1.37-1.37c-.4-.4-.92-.59-1.43-.59-.52 0-1.04.2-1.43.59L10.3 9.45l-7.72 7.72c-.78.78-.78 2.05 0 2.83L4 21.41c.39.39.9.59 1.41.59.51 0 1.02-.2 1.41-.59l7.78-7.78 2.81-2.81c.8-.78.8-2.07 0-2.86zM5.41 20L4 18.59l7.72-7.72 1.47 1.35L5.41 20z\"/>\n",
              "  </svg>\n",
              "      </button>\n",
              "      \n",
              "  <style>\n",
              "    .colab-df-container {\n",
              "      display:flex;\n",
              "      flex-wrap:wrap;\n",
              "      gap: 12px;\n",
              "    }\n",
              "\n",
              "    .colab-df-convert {\n",
              "      background-color: #E8F0FE;\n",
              "      border: none;\n",
              "      border-radius: 50%;\n",
              "      cursor: pointer;\n",
              "      display: none;\n",
              "      fill: #1967D2;\n",
              "      height: 32px;\n",
              "      padding: 0 0 0 0;\n",
              "      width: 32px;\n",
              "    }\n",
              "\n",
              "    .colab-df-convert:hover {\n",
              "      background-color: #E2EBFA;\n",
              "      box-shadow: 0px 1px 2px rgba(60, 64, 67, 0.3), 0px 1px 3px 1px rgba(60, 64, 67, 0.15);\n",
              "      fill: #174EA6;\n",
              "    }\n",
              "\n",
              "    [theme=dark] .colab-df-convert {\n",
              "      background-color: #3B4455;\n",
              "      fill: #D2E3FC;\n",
              "    }\n",
              "\n",
              "    [theme=dark] .colab-df-convert:hover {\n",
              "      background-color: #434B5C;\n",
              "      box-shadow: 0px 1px 3px 1px rgba(0, 0, 0, 0.15);\n",
              "      filter: drop-shadow(0px 1px 2px rgba(0, 0, 0, 0.3));\n",
              "      fill: #FFFFFF;\n",
              "    }\n",
              "  </style>\n",
              "\n",
              "      <script>\n",
              "        const buttonEl =\n",
              "          document.querySelector('#df-4c89b5ae-ddf7-4f32-af36-fd5309953a56 button.colab-df-convert');\n",
              "        buttonEl.style.display =\n",
              "          google.colab.kernel.accessAllowed ? 'block' : 'none';\n",
              "\n",
              "        async function convertToInteractive(key) {\n",
              "          const element = document.querySelector('#df-4c89b5ae-ddf7-4f32-af36-fd5309953a56');\n",
              "          const dataTable =\n",
              "            await google.colab.kernel.invokeFunction('convertToInteractive',\n",
              "                                                     [key], {});\n",
              "          if (!dataTable) return;\n",
              "\n",
              "          const docLinkHtml = 'Like what you see? Visit the ' +\n",
              "            '<a target=\"_blank\" href=https://colab.research.google.com/notebooks/data_table.ipynb>data table notebook</a>'\n",
              "            + ' to learn more about interactive tables.';\n",
              "          element.innerHTML = '';\n",
              "          dataTable['output_type'] = 'display_data';\n",
              "          await google.colab.output.renderOutput(dataTable, element);\n",
              "          const docLink = document.createElement('div');\n",
              "          docLink.innerHTML = docLinkHtml;\n",
              "          element.appendChild(docLink);\n",
              "        }\n",
              "      </script>\n",
              "    </div>\n",
              "  </div>\n",
              "  "
            ]
          },
          "metadata": {},
          "execution_count": 75
        }
      ]
    },
    {
      "cell_type": "code",
      "source": [
        "housing.describe()"
      ],
      "metadata": {
        "colab": {
          "base_uri": "https://localhost:8080/",
          "height": 364
        },
        "id": "GqMUTLlpZFuC",
        "outputId": "b7a96fea-c1f5-45d1-e108-267184ad71cf"
      },
      "execution_count": 76,
      "outputs": [
        {
          "output_type": "execute_result",
          "data": {
            "text/plain": [
              "             CRIM          ZN       INDUS        CHAS         NOX          RM  \\\n",
              "count  511.000000  511.000000  511.000000  511.000000  511.000000  506.000000   \n",
              "mean     3.584139   11.252446   11.151096    0.068493    0.554757    6.287589   \n",
              "std      8.564433   23.234838    6.828175    0.252838    0.115310    0.703802   \n",
              "min      0.006320    0.000000    0.460000    0.000000    0.385000    3.561000   \n",
              "25%      0.082325    0.000000    5.190000    0.000000    0.449000    5.885500   \n",
              "50%      0.261690    0.000000    9.690000    0.000000    0.538000    6.209000   \n",
              "75%      3.621175   12.500000   18.100000    0.000000    0.624000    6.629750   \n",
              "max     88.976200  100.000000   27.740000    1.000000    0.871000    8.780000   \n",
              "\n",
              "              AGE         DIS         RAD         TAX     PTRATIO           B  \\\n",
              "count  511.000000  511.000000  511.000000  511.000000  511.000000  511.000000   \n",
              "mean    68.616243    3.783876    9.485323  407.440313   18.500000  356.600900   \n",
              "std     28.099130    2.098631    8.688469  167.903532    2.200348   90.882679   \n",
              "min      2.900000    1.129600    1.000000  187.000000   12.600000    0.320000   \n",
              "25%     45.050000    2.100350    4.000000  279.500000   17.400000  374.710000   \n",
              "50%     77.300000    3.152300    5.000000  330.000000   19.100000  391.340000   \n",
              "75%     94.050000    5.118000   24.000000  666.000000   20.200000  396.210000   \n",
              "max    100.000000   12.126500   24.000000  711.000000   23.000000  396.900000   \n",
              "\n",
              "            LSTAT        MEDV  \n",
              "count  511.000000  511.000000  \n",
              "mean    12.879550   22.682192  \n",
              "std      7.797416    9.484262  \n",
              "min      1.730000    5.000000  \n",
              "25%      7.065000   17.050000  \n",
              "50%     11.450000   21.200000  \n",
              "75%     17.105000   25.000000  \n",
              "max     76.000000   67.000000  "
            ],
            "text/html": [
              "\n",
              "  <div id=\"df-1dfc7c90-b159-4351-8024-d183c143fc36\">\n",
              "    <div class=\"colab-df-container\">\n",
              "      <div>\n",
              "<style scoped>\n",
              "    .dataframe tbody tr th:only-of-type {\n",
              "        vertical-align: middle;\n",
              "    }\n",
              "\n",
              "    .dataframe tbody tr th {\n",
              "        vertical-align: top;\n",
              "    }\n",
              "\n",
              "    .dataframe thead th {\n",
              "        text-align: right;\n",
              "    }\n",
              "</style>\n",
              "<table border=\"1\" class=\"dataframe\">\n",
              "  <thead>\n",
              "    <tr style=\"text-align: right;\">\n",
              "      <th></th>\n",
              "      <th>CRIM</th>\n",
              "      <th>ZN</th>\n",
              "      <th>INDUS</th>\n",
              "      <th>CHAS</th>\n",
              "      <th>NOX</th>\n",
              "      <th>RM</th>\n",
              "      <th>AGE</th>\n",
              "      <th>DIS</th>\n",
              "      <th>RAD</th>\n",
              "      <th>TAX</th>\n",
              "      <th>PTRATIO</th>\n",
              "      <th>B</th>\n",
              "      <th>LSTAT</th>\n",
              "      <th>MEDV</th>\n",
              "    </tr>\n",
              "  </thead>\n",
              "  <tbody>\n",
              "    <tr>\n",
              "      <th>count</th>\n",
              "      <td>511.000000</td>\n",
              "      <td>511.000000</td>\n",
              "      <td>511.000000</td>\n",
              "      <td>511.000000</td>\n",
              "      <td>511.000000</td>\n",
              "      <td>506.000000</td>\n",
              "      <td>511.000000</td>\n",
              "      <td>511.000000</td>\n",
              "      <td>511.000000</td>\n",
              "      <td>511.000000</td>\n",
              "      <td>511.000000</td>\n",
              "      <td>511.000000</td>\n",
              "      <td>511.000000</td>\n",
              "      <td>511.000000</td>\n",
              "    </tr>\n",
              "    <tr>\n",
              "      <th>mean</th>\n",
              "      <td>3.584139</td>\n",
              "      <td>11.252446</td>\n",
              "      <td>11.151096</td>\n",
              "      <td>0.068493</td>\n",
              "      <td>0.554757</td>\n",
              "      <td>6.287589</td>\n",
              "      <td>68.616243</td>\n",
              "      <td>3.783876</td>\n",
              "      <td>9.485323</td>\n",
              "      <td>407.440313</td>\n",
              "      <td>18.500000</td>\n",
              "      <td>356.600900</td>\n",
              "      <td>12.879550</td>\n",
              "      <td>22.682192</td>\n",
              "    </tr>\n",
              "    <tr>\n",
              "      <th>std</th>\n",
              "      <td>8.564433</td>\n",
              "      <td>23.234838</td>\n",
              "      <td>6.828175</td>\n",
              "      <td>0.252838</td>\n",
              "      <td>0.115310</td>\n",
              "      <td>0.703802</td>\n",
              "      <td>28.099130</td>\n",
              "      <td>2.098631</td>\n",
              "      <td>8.688469</td>\n",
              "      <td>167.903532</td>\n",
              "      <td>2.200348</td>\n",
              "      <td>90.882679</td>\n",
              "      <td>7.797416</td>\n",
              "      <td>9.484262</td>\n",
              "    </tr>\n",
              "    <tr>\n",
              "      <th>min</th>\n",
              "      <td>0.006320</td>\n",
              "      <td>0.000000</td>\n",
              "      <td>0.460000</td>\n",
              "      <td>0.000000</td>\n",
              "      <td>0.385000</td>\n",
              "      <td>3.561000</td>\n",
              "      <td>2.900000</td>\n",
              "      <td>1.129600</td>\n",
              "      <td>1.000000</td>\n",
              "      <td>187.000000</td>\n",
              "      <td>12.600000</td>\n",
              "      <td>0.320000</td>\n",
              "      <td>1.730000</td>\n",
              "      <td>5.000000</td>\n",
              "    </tr>\n",
              "    <tr>\n",
              "      <th>25%</th>\n",
              "      <td>0.082325</td>\n",
              "      <td>0.000000</td>\n",
              "      <td>5.190000</td>\n",
              "      <td>0.000000</td>\n",
              "      <td>0.449000</td>\n",
              "      <td>5.885500</td>\n",
              "      <td>45.050000</td>\n",
              "      <td>2.100350</td>\n",
              "      <td>4.000000</td>\n",
              "      <td>279.500000</td>\n",
              "      <td>17.400000</td>\n",
              "      <td>374.710000</td>\n",
              "      <td>7.065000</td>\n",
              "      <td>17.050000</td>\n",
              "    </tr>\n",
              "    <tr>\n",
              "      <th>50%</th>\n",
              "      <td>0.261690</td>\n",
              "      <td>0.000000</td>\n",
              "      <td>9.690000</td>\n",
              "      <td>0.000000</td>\n",
              "      <td>0.538000</td>\n",
              "      <td>6.209000</td>\n",
              "      <td>77.300000</td>\n",
              "      <td>3.152300</td>\n",
              "      <td>5.000000</td>\n",
              "      <td>330.000000</td>\n",
              "      <td>19.100000</td>\n",
              "      <td>391.340000</td>\n",
              "      <td>11.450000</td>\n",
              "      <td>21.200000</td>\n",
              "    </tr>\n",
              "    <tr>\n",
              "      <th>75%</th>\n",
              "      <td>3.621175</td>\n",
              "      <td>12.500000</td>\n",
              "      <td>18.100000</td>\n",
              "      <td>0.000000</td>\n",
              "      <td>0.624000</td>\n",
              "      <td>6.629750</td>\n",
              "      <td>94.050000</td>\n",
              "      <td>5.118000</td>\n",
              "      <td>24.000000</td>\n",
              "      <td>666.000000</td>\n",
              "      <td>20.200000</td>\n",
              "      <td>396.210000</td>\n",
              "      <td>17.105000</td>\n",
              "      <td>25.000000</td>\n",
              "    </tr>\n",
              "    <tr>\n",
              "      <th>max</th>\n",
              "      <td>88.976200</td>\n",
              "      <td>100.000000</td>\n",
              "      <td>27.740000</td>\n",
              "      <td>1.000000</td>\n",
              "      <td>0.871000</td>\n",
              "      <td>8.780000</td>\n",
              "      <td>100.000000</td>\n",
              "      <td>12.126500</td>\n",
              "      <td>24.000000</td>\n",
              "      <td>711.000000</td>\n",
              "      <td>23.000000</td>\n",
              "      <td>396.900000</td>\n",
              "      <td>76.000000</td>\n",
              "      <td>67.000000</td>\n",
              "    </tr>\n",
              "  </tbody>\n",
              "</table>\n",
              "</div>\n",
              "      <button class=\"colab-df-convert\" onclick=\"convertToInteractive('df-1dfc7c90-b159-4351-8024-d183c143fc36')\"\n",
              "              title=\"Convert this dataframe to an interactive table.\"\n",
              "              style=\"display:none;\">\n",
              "        \n",
              "  <svg xmlns=\"http://www.w3.org/2000/svg\" height=\"24px\"viewBox=\"0 0 24 24\"\n",
              "       width=\"24px\">\n",
              "    <path d=\"M0 0h24v24H0V0z\" fill=\"none\"/>\n",
              "    <path d=\"M18.56 5.44l.94 2.06.94-2.06 2.06-.94-2.06-.94-.94-2.06-.94 2.06-2.06.94zm-11 1L8.5 8.5l.94-2.06 2.06-.94-2.06-.94L8.5 2.5l-.94 2.06-2.06.94zm10 10l.94 2.06.94-2.06 2.06-.94-2.06-.94-.94-2.06-.94 2.06-2.06.94z\"/><path d=\"M17.41 7.96l-1.37-1.37c-.4-.4-.92-.59-1.43-.59-.52 0-1.04.2-1.43.59L10.3 9.45l-7.72 7.72c-.78.78-.78 2.05 0 2.83L4 21.41c.39.39.9.59 1.41.59.51 0 1.02-.2 1.41-.59l7.78-7.78 2.81-2.81c.8-.78.8-2.07 0-2.86zM5.41 20L4 18.59l7.72-7.72 1.47 1.35L5.41 20z\"/>\n",
              "  </svg>\n",
              "      </button>\n",
              "      \n",
              "  <style>\n",
              "    .colab-df-container {\n",
              "      display:flex;\n",
              "      flex-wrap:wrap;\n",
              "      gap: 12px;\n",
              "    }\n",
              "\n",
              "    .colab-df-convert {\n",
              "      background-color: #E8F0FE;\n",
              "      border: none;\n",
              "      border-radius: 50%;\n",
              "      cursor: pointer;\n",
              "      display: none;\n",
              "      fill: #1967D2;\n",
              "      height: 32px;\n",
              "      padding: 0 0 0 0;\n",
              "      width: 32px;\n",
              "    }\n",
              "\n",
              "    .colab-df-convert:hover {\n",
              "      background-color: #E2EBFA;\n",
              "      box-shadow: 0px 1px 2px rgba(60, 64, 67, 0.3), 0px 1px 3px 1px rgba(60, 64, 67, 0.15);\n",
              "      fill: #174EA6;\n",
              "    }\n",
              "\n",
              "    [theme=dark] .colab-df-convert {\n",
              "      background-color: #3B4455;\n",
              "      fill: #D2E3FC;\n",
              "    }\n",
              "\n",
              "    [theme=dark] .colab-df-convert:hover {\n",
              "      background-color: #434B5C;\n",
              "      box-shadow: 0px 1px 3px 1px rgba(0, 0, 0, 0.15);\n",
              "      filter: drop-shadow(0px 1px 2px rgba(0, 0, 0, 0.3));\n",
              "      fill: #FFFFFF;\n",
              "    }\n",
              "  </style>\n",
              "\n",
              "      <script>\n",
              "        const buttonEl =\n",
              "          document.querySelector('#df-1dfc7c90-b159-4351-8024-d183c143fc36 button.colab-df-convert');\n",
              "        buttonEl.style.display =\n",
              "          google.colab.kernel.accessAllowed ? 'block' : 'none';\n",
              "\n",
              "        async function convertToInteractive(key) {\n",
              "          const element = document.querySelector('#df-1dfc7c90-b159-4351-8024-d183c143fc36');\n",
              "          const dataTable =\n",
              "            await google.colab.kernel.invokeFunction('convertToInteractive',\n",
              "                                                     [key], {});\n",
              "          if (!dataTable) return;\n",
              "\n",
              "          const docLinkHtml = 'Like what you see? Visit the ' +\n",
              "            '<a target=\"_blank\" href=https://colab.research.google.com/notebooks/data_table.ipynb>data table notebook</a>'\n",
              "            + ' to learn more about interactive tables.';\n",
              "          element.innerHTML = '';\n",
              "          dataTable['output_type'] = 'display_data';\n",
              "          await google.colab.output.renderOutput(dataTable, element);\n",
              "          const docLink = document.createElement('div');\n",
              "          docLink.innerHTML = docLinkHtml;\n",
              "          element.appendChild(docLink);\n",
              "        }\n",
              "      </script>\n",
              "    </div>\n",
              "  </div>\n",
              "  "
            ]
          },
          "metadata": {},
          "execution_count": 76
        }
      ]
    },
    {
      "cell_type": "code",
      "source": [
        "housing.info()"
      ],
      "metadata": {
        "colab": {
          "base_uri": "https://localhost:8080/"
        },
        "id": "cmfKffp5ZwCA",
        "outputId": "62f02e0d-1f47-4bbd-fdfb-4537ae6c443a"
      },
      "execution_count": 77,
      "outputs": [
        {
          "output_type": "stream",
          "name": "stdout",
          "text": [
            "<class 'pandas.core.frame.DataFrame'>\n",
            "RangeIndex: 511 entries, 0 to 510\n",
            "Data columns (total 14 columns):\n",
            " #   Column   Non-Null Count  Dtype  \n",
            "---  ------   --------------  -----  \n",
            " 0   CRIM     511 non-null    float64\n",
            " 1   ZN       511 non-null    float64\n",
            " 2   INDUS    511 non-null    float64\n",
            " 3   CHAS     511 non-null    int64  \n",
            " 4   NOX      511 non-null    float64\n",
            " 5   RM       506 non-null    float64\n",
            " 6   AGE      511 non-null    float64\n",
            " 7   DIS      511 non-null    float64\n",
            " 8   RAD      511 non-null    int64  \n",
            " 9   TAX      511 non-null    int64  \n",
            " 10  PTRATIO  511 non-null    float64\n",
            " 11  B        511 non-null    float64\n",
            " 12  LSTAT    511 non-null    float64\n",
            " 13  MEDV     511 non-null    float64\n",
            "dtypes: float64(11), int64(3)\n",
            "memory usage: 56.0 KB\n"
          ]
        }
      ]
    },
    {
      "cell_type": "code",
      "source": [
        "import matplotlib.pyplot as plt\n",
        "housing.hist(bins=20,figsize=(20,20))"
      ],
      "metadata": {
        "colab": {
          "base_uri": "https://localhost:8080/",
          "height": 1000
        },
        "id": "McT0bzG5Z6ZI",
        "outputId": "001cfdc9-3788-4683-9237-63dd021048cb"
      },
      "execution_count": 78,
      "outputs": [
        {
          "output_type": "execute_result",
          "data": {
            "text/plain": [
              "array([[<matplotlib.axes._subplots.AxesSubplot object at 0x7f25406a4ad0>,\n",
              "        <matplotlib.axes._subplots.AxesSubplot object at 0x7f254061c690>,\n",
              "        <matplotlib.axes._subplots.AxesSubplot object at 0x7f25405d1c90>,\n",
              "        <matplotlib.axes._subplots.AxesSubplot object at 0x7f25405932d0>],\n",
              "       [<matplotlib.axes._subplots.AxesSubplot object at 0x7f254054a8d0>,\n",
              "        <matplotlib.axes._subplots.AxesSubplot object at 0x7f2540503ed0>,\n",
              "        <matplotlib.axes._subplots.AxesSubplot object at 0x7f25404c4590>,\n",
              "        <matplotlib.axes._subplots.AxesSubplot object at 0x7f25404fbad0>],\n",
              "       [<matplotlib.axes._subplots.AxesSubplot object at 0x7f25404fbb10>,\n",
              "        <matplotlib.axes._subplots.AxesSubplot object at 0x7f254043f250>,\n",
              "        <matplotlib.axes._subplots.AxesSubplot object at 0x7f254042cd50>,\n",
              "        <matplotlib.axes._subplots.AxesSubplot object at 0x7f25403f0390>],\n",
              "       [<matplotlib.axes._subplots.AxesSubplot object at 0x7f25403a7990>,\n",
              "        <matplotlib.axes._subplots.AxesSubplot object at 0x7f254035ef90>,\n",
              "        <matplotlib.axes._subplots.AxesSubplot object at 0x7f25403215d0>,\n",
              "        <matplotlib.axes._subplots.AxesSubplot object at 0x7f25402dabd0>]],\n",
              "      dtype=object)"
            ]
          },
          "metadata": {},
          "execution_count": 78
        },
        {
          "output_type": "display_data",
          "data": {
            "text/plain": [
              "<Figure size 1440x1440 with 16 Axes>"
            ],
            "image/png": "[encoded data removed]"
          },
          "metadata": {
            "needs_background": "light"
          }
        }
      ]
    },
    {
      "cell_type": "code",
      "source": [
        "corr_matrix=housing.corr()\n",
        "corr_matrix['MEDV'].sort_values(ascending=False)"
      ],
      "metadata": {
        "colab": {
          "base_uri": "https://localhost:8080/"
        },
        "id": "7CT7dls-bM7D",
        "outputId": "97158289-70d3-4e47-ec35-24b6c8c9f0a0"
      },
      "execution_count": 79,
      "outputs": [
        {
          "output_type": "execute_result",
          "data": {
            "text/plain": [
              "MEDV       1.000000\n",
              "RM         0.667695\n",
              "ZN         0.339767\n",
              "B          0.317941\n",
              "DIS        0.233469\n",
              "CHAS       0.164782\n",
              "AGE       -0.368203\n",
              "RAD       -0.379016\n",
              "CRIM      -0.380072\n",
              "NOX       -0.411486\n",
              "PTRATIO   -0.447464\n",
              "TAX       -0.459274\n",
              "INDUS     -0.463269\n",
              "LSTAT     -0.562960\n",
              "Name: MEDV, dtype: float64"
            ]
          },
          "metadata": {},
          "execution_count": 79
        }
      ]
    },
    {
      "cell_type": "code",
      "source": [
        "from pandas.plotting import scatter_matrix\n",
        "features = ['MEDV', 'RM', 'LSTAT','INDUS']\n",
        "scatter_matrix(housing[features],figsize=(10,10))          \n"
      ],
      "metadata": {
        "colab": {
          "base_uri": "https://localhost:8080/",
          "height": 901
        },
        "id": "CAvJu0b_e5zv",
        "outputId": "1de468b7-94ff-4e69-c7d9-705c84fd3fd2"
      },
      "execution_count": 80,
      "outputs": [
        {
          "output_type": "execute_result",
          "data": {
            "text/plain": [
              "array([[<matplotlib.axes._subplots.AxesSubplot object at 0x7f253fde1650>,\n",
              "        <matplotlib.axes._subplots.AxesSubplot object at 0x7f254055c590>,\n",
              "        <matplotlib.axes._subplots.AxesSubplot object at 0x7f25403fbd50>,\n",
              "        <matplotlib.axes._subplots.AxesSubplot object at 0x7f25406add10>],\n",
              "       [<matplotlib.axes._subplots.AxesSubplot object at 0x7f253fdc3b10>,\n",
              "        <matplotlib.axes._subplots.AxesSubplot object at 0x7f25400aa690>,\n",
              "        <matplotlib.axes._subplots.AxesSubplot object at 0x7f253fb958d0>,\n",
              "        <matplotlib.axes._subplots.AxesSubplot object at 0x7f253fb4ce10>],\n",
              "       [<matplotlib.axes._subplots.AxesSubplot object at 0x7f253fb4ce50>,\n",
              "        <matplotlib.axes._subplots.AxesSubplot object at 0x7f253fb0f590>,\n",
              "        <matplotlib.axes._subplots.AxesSubplot object at 0x7f253fa8a0d0>,\n",
              "        <matplotlib.axes._subplots.AxesSubplot object at 0x7f253fa406d0>],\n",
              "       [<matplotlib.axes._subplots.AxesSubplot object at 0x7f253fa75cd0>,\n",
              "        <matplotlib.axes._subplots.AxesSubplot object at 0x7f253fa3c310>,\n",
              "        <matplotlib.axes._subplots.AxesSubplot object at 0x7f253f9f3910>,\n",
              "        <matplotlib.axes._subplots.AxesSubplot object at 0x7f253f9abf10>]],\n",
              "      dtype=object)"
            ]
          },
          "metadata": {},
          "execution_count": 80
        },
        {
          "output_type": "display_data",
          "data": {
            "text/plain": [
              "<Figure size 720x720 with 16 Axes>"
            ],
            "image/png": "[encoded data removed]"
          },
          "metadata": {
            "needs_background": "light"
          }
        }
      ]
    },
    {
      "cell_type": "code",
      "source": [
        "housing.plot(kind = 'scatter', x = 'MEDV', y = 'TAX')"
      ],
      "metadata": {
        "colab": {
          "base_uri": "https://localhost:8080/",
          "height": 296
        },
        "id": "KlcNk07pg5JV",
        "outputId": "f94fb1bb-deb2-49d8-b9a8-d48bec3c5ecc"
      },
      "execution_count": 81,
      "outputs": [
        {
          "output_type": "execute_result",
          "data": {
            "text/plain": [
              "<matplotlib.axes._subplots.AxesSubplot at 0x7f2540044f10>"
            ]
          },
          "metadata": {},
          "execution_count": 81
        },
        {
          "output_type": "display_data",
          "data": {
            "text/plain": [
              "<Figure size 432x288 with 1 Axes>"
            ],
            "image/png": "[encoded data removed]"
          },
          "metadata": {
            "needs_background": "light"
          }
        }
      ]
    },
    {
      "cell_type": "code",
      "source": [
        "housing['TAX'].value_counts()"
      ],
      "metadata": {
        "colab": {
          "base_uri": "https://localhost:8080/"
        },
        "id": "UCWpSWM7h43r",
        "outputId": "fbca7d82-e9da-43ff-b8ec-7a253bb3c7d6"
      },
      "execution_count": 82,
      "outputs": [
        {
          "output_type": "execute_result",
          "data": {
            "text/plain": [
              "666    132\n",
              "307     40\n",
              "403     30\n",
              "437     15\n",
              "304     14\n",
              "      ... \n",
              "313      1\n",
              "226      1\n",
              "469      1\n",
              "285      1\n",
              "244      1\n",
              "Name: TAX, Length: 67, dtype: int64"
            ]
          },
          "metadata": {},
          "execution_count": 82
        }
      ]
    },
    {
      "cell_type": "markdown",
      "source": [
        "# Traing-Testing-spliting"
      ],
      "metadata": {
        "id": "Sa7VBmaNj40G"
      }
    },
    {
      "cell_type": "code",
      "source": [
        "from sklearn.model_selection import train_test_split\n",
        "start_train_set,start_test_set=train_test_split(housing, test_size=0.2, random_state=42)"
      ],
      "metadata": {
        "id": "RM4uEaXXisNS"
      },
      "execution_count": 83,
      "outputs": []
    },
    {
      "cell_type": "code",
      "source": [
        "housing.shape"
      ],
      "metadata": {
        "colab": {
          "base_uri": "https://localhost:8080/"
        },
        "id": "Srhu2Q_9lYm0",
        "outputId": "e8662517-5be3-4868-9471-f1ee27e59056"
      },
      "execution_count": 84,
      "outputs": [
        {
          "output_type": "execute_result",
          "data": {
            "text/plain": [
              "(511, 14)"
            ]
          },
          "metadata": {},
          "execution_count": 84
        }
      ]
    },
    {
      "cell_type": "code",
      "source": [
        "start_train_set.shape"
      ],
      "metadata": {
        "colab": {
          "base_uri": "https://localhost:8080/"
        },
        "id": "KG6Pe-9Mlas5",
        "outputId": "4546f4ab-fbe7-4bd5-a1ce-4a319c7acbcf"
      },
      "execution_count": 85,
      "outputs": [
        {
          "output_type": "execute_result",
          "data": {
            "text/plain": [
              "(408, 14)"
            ]
          },
          "metadata": {},
          "execution_count": 85
        }
      ]
    },
    {
      "cell_type": "code",
      "source": [
        "start_test_set.shape"
      ],
      "metadata": {
        "colab": {
          "base_uri": "https://localhost:8080/"
        },
        "id": "Tcqfl3rYlj-m",
        "outputId": "68714b0d-15fb-4df2-b3e5-995e447a07c0"
      },
      "execution_count": 86,
      "outputs": [
        {
          "output_type": "execute_result",
          "data": {
            "text/plain": [
              "(103, 14)"
            ]
          },
          "metadata": {},
          "execution_count": 86
        }
      ]
    },
    {
      "cell_type": "code",
      "source": [
        "from sklearn.model_selection import ShuffleSplit\n",
        "rs = ShuffleSplit(n_splits=5, test_size=0.2, random_state=0)\n",
        "for train_index, test_index in rs.split(housing,housing['RM']):\n",
        "  start_train_index=housing.loc[train_index]\n",
        "  start_test_index=housing.loc[test_index]\n",
        "\n",
        "    "
      ],
      "metadata": {
        "id": "IrxV_d35lm23"
      },
      "execution_count": 87,
      "outputs": []
    },
    {
      "cell_type": "code",
      "source": [
        "housing=start_train_index.drop(\"MEDV\",axis=1)\n",
        "\n",
        "housing_labels=start_train_index[\"MEDV\"].copy()"
      ],
      "metadata": {
        "id": "wanSmKu6qWd_"
      },
      "execution_count": 88,
      "outputs": []
    },
    {
      "cell_type": "code",
      "source": [
        "start_train_index"
      ],
      "metadata": {
        "colab": {
          "base_uri": "https://localhost:8080/",
          "height": 468
        },
        "id": "diV_d3CWnElP",
        "outputId": "b7e480a3-faed-4800-f065-f602194b3b0c"
      },
      "execution_count": 89,
      "outputs": [
        {
          "output_type": "execute_result",
          "data": {
            "text/plain": [
              "         CRIM    ZN  INDUS  CHAS    NOX     RM    AGE     DIS  RAD  TAX  \\\n",
              "299   0.05561  70.0   2.24     0  0.400  7.041   10.0  7.8278    5  358   \n",
              "464   7.83932   0.0  18.10     0  0.655  6.209   65.4  2.9634   24  666   \n",
              "136   0.32264   0.0  21.89     0  0.624  5.942   93.5  1.9669    4  437   \n",
              "4     0.06905   0.0   2.18     0  0.458  7.147   54.2  6.0622    3  222   \n",
              "179   0.05780   0.0   2.46     0  0.488  6.980   58.4  2.8290    3  193   \n",
              "..        ...   ...    ...   ...    ...    ...    ...     ...  ...  ...   \n",
              "478  10.23300   0.0  18.10     0  0.614  6.185   96.7  2.1705   24  666   \n",
              "58    0.15445  25.0   5.13     0  0.453  6.145   29.2  7.8148    8  284   \n",
              "327   0.24103   0.0   7.38     0  0.493  6.083   43.7  5.4159    5  287   \n",
              "158   1.34284   0.0  19.58     0  0.605  6.066  100.0  1.7573    5  403   \n",
              "139   0.54452   0.0  21.89     0  0.624  6.151   97.9  1.6687    4  437   \n",
              "\n",
              "     PTRATIO       B  LSTAT  MEDV  \n",
              "299     14.8  371.58   4.74  29.0  \n",
              "464     20.2  396.90  13.22  21.4  \n",
              "136     21.2  378.25  16.90  17.4  \n",
              "4       18.7  396.90   5.33  36.2  \n",
              "179     17.8  396.90   5.04  37.2  \n",
              "..       ...     ...    ...   ...  \n",
              "478     20.2  379.70  18.03  14.6  \n",
              "58      19.7  390.68   6.86  23.3  \n",
              "327     19.6  396.90  12.79  22.2  \n",
              "158     14.7  353.89   6.43  24.3  \n",
              "139     21.2  396.90  18.46  17.8  \n",
              "\n",
              "[408 rows x 14 columns]"
            ],
            "text/html": [
              "\n",
              "  <div id=\"df-619377db-a3eb-43b8-a4a0-788213b97916\">\n",
              "    <div class=\"colab-df-container\">\n",
              "      <div>\n",
              "<style scoped>\n",
              "    .dataframe tbody tr th:only-of-type {\n",
              "        vertical-align: middle;\n",
              "    }\n",
              "\n",
              "    .dataframe tbody tr th {\n",
              "        vertical-align: top;\n",
              "    }\n",
              "\n",
              "    .dataframe thead th {\n",
              "        text-align: right;\n",
              "    }\n",
              "</style>\n",
              "<table border=\"1\" class=\"dataframe\">\n",
              "  <thead>\n",
              "    <tr style=\"text-align: right;\">\n",
              "      <th></th>\n",
              "      <th>CRIM</th>\n",
              "      <th>ZN</th>\n",
              "      <th>INDUS</th>\n",
              "      <th>CHAS</th>\n",
              "      <th>NOX</th>\n",
              "      <th>RM</th>\n",
              "      <th>AGE</th>\n",
              "      <th>DIS</th>\n",
              "      <th>RAD</th>\n",
              "      <th>TAX</th>\n",
              "      <th>PTRATIO</th>\n",
              "      <th>B</th>\n",
              "      <th>LSTAT</th>\n",
              "      <th>MEDV</th>\n",
              "    </tr>\n",
              "  </thead>\n",
              "  <tbody>\n",
              "    <tr>\n",
              "      <th>299</th>\n",
              "      <td>0.05561</td>\n",
              "      <td>70.0</td>\n",
              "      <td>2.24</td>\n",
              "      <td>0</td>\n",
              "      <td>0.400</td>\n",
              "      <td>7.041</td>\n",
              "      <td>10.0</td>\n",
              "      <td>7.8278</td>\n",
              "      <td>5</td>\n",
              "      <td>358</td>\n",
              "      <td>14.8</td>\n",
              "      <td>371.58</td>\n",
              "      <td>4.74</td>\n",
              "      <td>29.0</td>\n",
              "    </tr>\n",
              "    <tr>\n",
              "      <th>464</th>\n",
              "      <td>7.83932</td>\n",
              "      <td>0.0</td>\n",
              "      <td>18.10</td>\n",
              "      <td>0</td>\n",
              "      <td>0.655</td>\n",
              "      <td>6.209</td>\n",
              "      <td>65.4</td>\n",
              "      <td>2.9634</td>\n",
              "      <td>24</td>\n",
              "      <td>666</td>\n",
              "      <td>20.2</td>\n",
              "      <td>396.90</td>\n",
              "      <td>13.22</td>\n",
              "      <td>21.4</td>\n",
              "    </tr>\n",
              "    <tr>\n",
              "      <th>136</th>\n",
              "      <td>0.32264</td>\n",
              "      <td>0.0</td>\n",
              "      <td>21.89</td>\n",
              "      <td>0</td>\n",
              "      <td>0.624</td>\n",
              "      <td>5.942</td>\n",
              "      <td>93.5</td>\n",
              "      <td>1.9669</td>\n",
              "      <td>4</td>\n",
              "      <td>437</td>\n",
              "      <td>21.2</td>\n",
              "      <td>378.25</td>\n",
              "      <td>16.90</td>\n",
              "      <td>17.4</td>\n",
              "    </tr>\n",
              "    <tr>\n",
              "      <th>4</th>\n",
              "      <td>0.06905</td>\n",
              "      <td>0.0</td>\n",
              "      <td>2.18</td>\n",
              "      <td>0</td>\n",
              "      <td>0.458</td>\n",
              "      <td>7.147</td>\n",
              "      <td>54.2</td>\n",
              "      <td>6.0622</td>\n",
              "      <td>3</td>\n",
              "      <td>222</td>\n",
              "      <td>18.7</td>\n",
              "      <td>396.90</td>\n",
              "      <td>5.33</td>\n",
              "      <td>36.2</td>\n",
              "    </tr>\n",
              "    <tr>\n",
              "      <th>179</th>\n",
              "      <td>0.05780</td>\n",
              "      <td>0.0</td>\n",
              "      <td>2.46</td>\n",
              "      <td>0</td>\n",
              "      <td>0.488</td>\n",
              "      <td>6.980</td>\n",
              "      <td>58.4</td>\n",
              "      <td>2.8290</td>\n",
              "      <td>3</td>\n",
              "      <td>193</td>\n",
              "      <td>17.8</td>\n",
              "      <td>396.90</td>\n",
              "      <td>5.04</td>\n",
              "      <td>37.2</td>\n",
              "    </tr>\n",
              "    <tr>\n",
              "      <th>...</th>\n",
              "      <td>...</td>\n",
              "      <td>...</td>\n",
              "      <td>...</td>\n",
              "      <td>...</td>\n",
              "      <td>...</td>\n",
              "      <td>...</td>\n",
              "      <td>...</td>\n",
              "      <td>...</td>\n",
              "      <td>...</td>\n",
              "      <td>...</td>\n",
              "      <td>...</td>\n",
              "      <td>...</td>\n",
              "      <td>...</td>\n",
              "      <td>...</td>\n",
              "    </tr>\n",
              "    <tr>\n",
              "      <th>478</th>\n",
              "      <td>10.23300</td>\n",
              "      <td>0.0</td>\n",
              "      <td>18.10</td>\n",
              "      <td>0</td>\n",
              "      <td>0.614</td>\n",
              "      <td>6.185</td>\n",
              "      <td>96.7</td>\n",
              "      <td>2.1705</td>\n",
              "      <td>24</td>\n",
              "      <td>666</td>\n",
              "      <td>20.2</td>\n",
              "      <td>379.70</td>\n",
              "      <td>18.03</td>\n",
              "      <td>14.6</td>\n",
              "    </tr>\n",
              "    <tr>\n",
              "      <th>58</th>\n",
              "      <td>0.15445</td>\n",
              "      <td>25.0</td>\n",
              "      <td>5.13</td>\n",
              "      <td>0</td>\n",
              "      <td>0.453</td>\n",
              "      <td>6.145</td>\n",
              "      <td>29.2</td>\n",
              "      <td>7.8148</td>\n",
              "      <td>8</td>\n",
              "      <td>284</td>\n",
              "      <td>19.7</td>\n",
              "      <td>390.68</td>\n",
              "      <td>6.86</td>\n",
              "      <td>23.3</td>\n",
              "    </tr>\n",
              "    <tr>\n",
              "      <th>327</th>\n",
              "      <td>0.24103</td>\n",
              "      <td>0.0</td>\n",
              "      <td>7.38</td>\n",
              "      <td>0</td>\n",
              "      <td>0.493</td>\n",
              "      <td>6.083</td>\n",
              "      <td>43.7</td>\n",
              "      <td>5.4159</td>\n",
              "      <td>5</td>\n",
              "      <td>287</td>\n",
              "      <td>19.6</td>\n",
              "      <td>396.90</td>\n",
              "      <td>12.79</td>\n",
              "      <td>22.2</td>\n",
              "    </tr>\n",
              "    <tr>\n",
              "      <th>158</th>\n",
              "      <td>1.34284</td>\n",
              "      <td>0.0</td>\n",
              "      <td>19.58</td>\n",
              "      <td>0</td>\n",
              "      <td>0.605</td>\n",
              "      <td>6.066</td>\n",
              "      <td>100.0</td>\n",
              "      <td>1.7573</td>\n",
              "      <td>5</td>\n",
              "      <td>403</td>\n",
              "      <td>14.7</td>\n",
              "      <td>353.89</td>\n",
              "      <td>6.43</td>\n",
              "      <td>24.3</td>\n",
              "    </tr>\n",
              "    <tr>\n",
              "      <th>139</th>\n",
              "      <td>0.54452</td>\n",
              "      <td>0.0</td>\n",
              "      <td>21.89</td>\n",
              "      <td>0</td>\n",
              "      <td>0.624</td>\n",
              "      <td>6.151</td>\n",
              "      <td>97.9</td>\n",
              "      <td>1.6687</td>\n",
              "      <td>4</td>\n",
              "      <td>437</td>\n",
              "      <td>21.2</td>\n",
              "      <td>396.90</td>\n",
              "      <td>18.46</td>\n",
              "      <td>17.8</td>\n",
              "    </tr>\n",
              "  </tbody>\n",
              "</table>\n",
              "<p>408 rows × 14 columns</p>\n",
              "</div>\n",
              "      <button class=\"colab-df-convert\" onclick=\"convertToInteractive('df-619377db-a3eb-43b8-a4a0-788213b97916')\"\n",
              "              title=\"Convert this dataframe to an interactive table.\"\n",
              "              style=\"display:none;\">\n",
              "        \n",
              "  <svg xmlns=\"http://www.w3.org/2000/svg\" height=\"24px\"viewBox=\"0 0 24 24\"\n",
              "       width=\"24px\">\n",
              "    <path d=\"M0 0h24v24H0V0z\" fill=\"none\"/>\n",
              "    <path d=\"M18.56 5.44l.94 2.06.94-2.06 2.06-.94-2.06-.94-.94-2.06-.94 2.06-2.06.94zm-11 1L8.5 8.5l.94-2.06 2.06-.94-2.06-.94L8.5 2.5l-.94 2.06-2.06.94zm10 10l.94 2.06.94-2.06 2.06-.94-2.06-.94-.94-2.06-.94 2.06-2.06.94z\"/><path d=\"M17.41 7.96l-1.37-1.37c-.4-.4-.92-.59-1.43-.59-.52 0-1.04.2-1.43.59L10.3 9.45l-7.72 7.72c-.78.78-.78 2.05 0 2.83L4 21.41c.39.39.9.59 1.41.59.51 0 1.02-.2 1.41-.59l7.78-7.78 2.81-2.81c.8-.78.8-2.07 0-2.86zM5.41 20L4 18.59l7.72-7.72 1.47 1.35L5.41 20z\"/>\n",
              "  </svg>\n",
              "      </button>\n",
              "      \n",
              "  <style>\n",
              "    .colab-df-container {\n",
              "      display:flex;\n",
              "      flex-wrap:wrap;\n",
              "      gap: 12px;\n",
              "    }\n",
              "\n",
              "    .colab-df-convert {\n",
              "      background-color: #E8F0FE;\n",
              "      border: none;\n",
              "      border-radius: 50%;\n",
              "      cursor: pointer;\n",
              "      display: none;\n",
              "      fill: #1967D2;\n",
              "      height: 32px;\n",
              "      padding: 0 0 0 0;\n",
              "      width: 32px;\n",
              "    }\n",
              "\n",
              "    .colab-df-convert:hover {\n",
              "      background-color: #E2EBFA;\n",
              "      box-shadow: 0px 1px 2px rgba(60, 64, 67, 0.3), 0px 1px 3px 1px rgba(60, 64, 67, 0.15);\n",
              "      fill: #174EA6;\n",
              "    }\n",
              "\n",
              "    [theme=dark] .colab-df-convert {\n",
              "      background-color: #3B4455;\n",
              "      fill: #D2E3FC;\n",
              "    }\n",
              "\n",
              "    [theme=dark] .colab-df-convert:hover {\n",
              "      background-color: #434B5C;\n",
              "      box-shadow: 0px 1px 3px 1px rgba(0, 0, 0, 0.15);\n",
              "      filter: drop-shadow(0px 1px 2px rgba(0, 0, 0, 0.3));\n",
              "      fill: #FFFFFF;\n",
              "    }\n",
              "  </style>\n",
              "\n",
              "      <script>\n",
              "        const buttonEl =\n",
              "          document.querySelector('#df-619377db-a3eb-43b8-a4a0-788213b97916 button.colab-df-convert');\n",
              "        buttonEl.style.display =\n",
              "          google.colab.kernel.accessAllowed ? 'block' : 'none';\n",
              "\n",
              "        async function convertToInteractive(key) {\n",
              "          const element = document.querySelector('#df-619377db-a3eb-43b8-a4a0-788213b97916');\n",
              "          const dataTable =\n",
              "            await google.colab.kernel.invokeFunction('convertToInteractive',\n",
              "                                                     [key], {});\n",
              "          if (!dataTable) return;\n",
              "\n",
              "          const docLinkHtml = 'Like what you see? Visit the ' +\n",
              "            '<a target=\"_blank\" href=https://colab.research.google.com/notebooks/data_table.ipynb>data table notebook</a>'\n",
              "            + ' to learn more about interactive tables.';\n",
              "          element.innerHTML = '';\n",
              "          dataTable['output_type'] = 'display_data';\n",
              "          await google.colab.output.renderOutput(dataTable, element);\n",
              "          const docLink = document.createElement('div');\n",
              "          docLink.innerHTML = docLinkHtml;\n",
              "          element.appendChild(docLink);\n",
              "        }\n",
              "      </script>\n",
              "    </div>\n",
              "  </div>\n",
              "  "
            ]
          },
          "metadata": {},
          "execution_count": 89
        }
      ]
    },
    {
      "cell_type": "markdown",
      "source": [
        "# MISSING VALUES"
      ],
      "metadata": {
        "id": "SztHZb1XnZI6"
      }
    },
    {
      "cell_type": "code",
      "source": [
        "from sklearn.impute import SimpleImputer\n",
        "imp_mean=SimpleImputer(strategy='median')\n",
        "imp_mean.fit(housing)\n",
        "imp_mean.statistics_\n"
      ],
      "metadata": {
        "colab": {
          "base_uri": "https://localhost:8080/"
        },
        "id": "mH4UiDxUnGbT",
        "outputId": "d39088ea-b2b6-4a52-bffa-4c7019b9d78d"
      },
      "execution_count": 90,
      "outputs": [
        {
          "output_type": "execute_result",
          "data": {
            "text/plain": [
              "array([2.53715e-01, 0.00000e+00, 9.69000e+00, 0.00000e+00, 5.38000e-01,\n",
              "       6.19300e+00, 7.77000e+01, 3.23100e+00, 5.00000e+00, 3.30000e+02,\n",
              "       1.90000e+01, 3.91440e+02, 1.17300e+01])"
            ]
          },
          "metadata": {},
          "execution_count": 90
        }
      ]
    },
    {
      "cell_type": "code",
      "source": [
        "X=imp_mean.transform(housing)\n",
        "housing_tr=pd.DataFrame(X,columns=housing.columns)\n",
        "housing_tr.describe()"
      ],
      "metadata": {
        "colab": {
          "base_uri": "https://localhost:8080/",
          "height": 364
        },
        "id": "gsYAsVjUopX6",
        "outputId": "b8702a26-b95c-43d8-9fc9-7635c3bcff58"
      },
      "execution_count": 91,
      "outputs": [
        {
          "output_type": "execute_result",
          "data": {
            "text/plain": [
              "             CRIM          ZN       INDUS        CHAS         NOX          RM  \\\n",
              "count  408.000000  408.000000  408.000000  408.000000  408.000000  408.000000   \n",
              "mean     3.744430   11.295343   11.189069    0.073529    0.556663    6.266934   \n",
              "std      9.187042   23.288737    6.924118    0.261324    0.117327    0.692700   \n",
              "min      0.006320    0.000000    0.460000    0.000000    0.385000    3.863000   \n",
              "25%      0.077820    0.000000    5.175000    0.000000    0.453000    5.876750   \n",
              "50%      0.253715    0.000000    9.690000    0.000000    0.538000    6.193000   \n",
              "75%      3.359357   12.500000   18.100000    0.000000    0.624000    6.593500   \n",
              "max     88.976200   95.000000   27.740000    1.000000    0.871000    8.780000   \n",
              "\n",
              "              AGE         DIS         RAD         TAX     PTRATIO           B  \\\n",
              "count  408.000000  408.000000  408.000000  408.000000  408.000000  408.000000   \n",
              "mean    68.828676    3.800909    9.316176  406.963235   18.431127  359.524118   \n",
              "std     28.131565    2.127502    8.610920  166.531478    2.214046   83.379681   \n",
              "min      6.000000    1.129600    1.000000  187.000000   12.600000    2.520000   \n",
              "25%     44.225000    2.077100    4.000000  284.000000   17.000000  373.445000   \n",
              "50%     77.700000    3.231000    5.000000  330.000000   19.000000  391.440000   \n",
              "75%     94.425000    5.234500   12.000000  666.000000   20.200000  396.250000   \n",
              "max    100.000000   12.126500   24.000000  711.000000   23.000000  396.900000   \n",
              "\n",
              "            LSTAT  \n",
              "count  408.000000  \n",
              "mean    13.044804  \n",
              "std      7.958853  \n",
              "min      1.730000  \n",
              "25%      7.170000  \n",
              "50%     11.730000  \n",
              "75%     17.167500  \n",
              "max     76.000000  "
            ],
            "text/html": [
              "\n",
              "  <div id=\"df-acce058b-9f3a-4126-a472-fce7715d54e9\">\n",
              "    <div class=\"colab-df-container\">\n",
              "      <div>\n",
              "<style scoped>\n",
              "    .dataframe tbody tr th:only-of-type {\n",
              "        vertical-align: middle;\n",
              "    }\n",
              "\n",
              "    .dataframe tbody tr th {\n",
              "        vertical-align: top;\n",
              "    }\n",
              "\n",
              "    .dataframe thead th {\n",
              "        text-align: right;\n",
              "    }\n",
              "</style>\n",
              "<table border=\"1\" class=\"dataframe\">\n",
              "  <thead>\n",
              "    <tr style=\"text-align: right;\">\n",
              "      <th></th>\n",
              "      <th>CRIM</th>\n",
              "      <th>ZN</th>\n",
              "      <th>INDUS</th>\n",
              "      <th>CHAS</th>\n",
              "      <th>NOX</th>\n",
              "      <th>RM</th>\n",
              "      <th>AGE</th>\n",
              "      <th>DIS</th>\n",
              "      <th>RAD</th>\n",
              "      <th>TAX</th>\n",
              "      <th>PTRATIO</th>\n",
              "      <th>B</th>\n",
              "      <th>LSTAT</th>\n",
              "    </tr>\n",
              "  </thead>\n",
              "  <tbody>\n",
              "    <tr>\n",
              "      <th>count</th>\n",
              "      <td>408.000000</td>\n",
              "      <td>408.000000</td>\n",
              "      <td>408.000000</td>\n",
              "      <td>408.000000</td>\n",
              "      <td>408.000000</td>\n",
              "      <td>408.000000</td>\n",
              "      <td>408.000000</td>\n",
              "      <td>408.000000</td>\n",
              "      <td>408.000000</td>\n",
              "      <td>408.000000</td>\n",
              "      <td>408.000000</td>\n",
              "      <td>408.000000</td>\n",
              "      <td>408.000000</td>\n",
              "    </tr>\n",
              "    <tr>\n",
              "      <th>mean</th>\n",
              "      <td>3.744430</td>\n",
              "      <td>11.295343</td>\n",
              "      <td>11.189069</td>\n",
              "      <td>0.073529</td>\n",
              "      <td>0.556663</td>\n",
              "      <td>6.266934</td>\n",
              "      <td>68.828676</td>\n",
              "      <td>3.800909</td>\n",
              "      <td>9.316176</td>\n",
              "      <td>406.963235</td>\n",
              "      <td>18.431127</td>\n",
              "      <td>359.524118</td>\n",
              "      <td>13.044804</td>\n",
              "    </tr>\n",
              "    <tr>\n",
              "      <th>std</th>\n",
              "      <td>9.187042</td>\n",
              "      <td>23.288737</td>\n",
              "      <td>6.924118</td>\n",
              "      <td>0.261324</td>\n",
              "      <td>0.117327</td>\n",
              "      <td>0.692700</td>\n",
              "      <td>28.131565</td>\n",
              "      <td>2.127502</td>\n",
              "      <td>8.610920</td>\n",
              "      <td>166.531478</td>\n",
              "      <td>2.214046</td>\n",
              "      <td>83.379681</td>\n",
              "      <td>7.958853</td>\n",
              "    </tr>\n",
              "    <tr>\n",
              "      <th>min</th>\n",
              "      <td>0.006320</td>\n",
              "      <td>0.000000</td>\n",
              "      <td>0.460000</td>\n",
              "      <td>0.000000</td>\n",
              "      <td>0.385000</td>\n",
              "      <td>3.863000</td>\n",
              "      <td>6.000000</td>\n",
              "      <td>1.129600</td>\n",
              "      <td>1.000000</td>\n",
              "      <td>187.000000</td>\n",
              "      <td>12.600000</td>\n",
              "      <td>2.520000</td>\n",
              "      <td>1.730000</td>\n",
              "    </tr>\n",
              "    <tr>\n",
              "      <th>25%</th>\n",
              "      <td>0.077820</td>\n",
              "      <td>0.000000</td>\n",
              "      <td>5.175000</td>\n",
              "      <td>0.000000</td>\n",
              "      <td>0.453000</td>\n",
              "      <td>5.876750</td>\n",
              "      <td>44.225000</td>\n",
              "      <td>2.077100</td>\n",
              "      <td>4.000000</td>\n",
              "      <td>284.000000</td>\n",
              "      <td>17.000000</td>\n",
              "      <td>373.445000</td>\n",
              "      <td>7.170000</td>\n",
              "    </tr>\n",
              "    <tr>\n",
              "      <th>50%</th>\n",
              "      <td>0.253715</td>\n",
              "      <td>0.000000</td>\n",
              "      <td>9.690000</td>\n",
              "      <td>0.000000</td>\n",
              "      <td>0.538000</td>\n",
              "      <td>6.193000</td>\n",
              "      <td>77.700000</td>\n",
              "      <td>3.231000</td>\n",
              "      <td>5.000000</td>\n",
              "      <td>330.000000</td>\n",
              "      <td>19.000000</td>\n",
              "      <td>391.440000</td>\n",
              "      <td>11.730000</td>\n",
              "    </tr>\n",
              "    <tr>\n",
              "      <th>75%</th>\n",
              "      <td>3.359357</td>\n",
              "      <td>12.500000</td>\n",
              "      <td>18.100000</td>\n",
              "      <td>0.000000</td>\n",
              "      <td>0.624000</td>\n",
              "      <td>6.593500</td>\n",
              "      <td>94.425000</td>\n",
              "      <td>5.234500</td>\n",
              "      <td>12.000000</td>\n",
              "      <td>666.000000</td>\n",
              "      <td>20.200000</td>\n",
              "      <td>396.250000</td>\n",
              "      <td>17.167500</td>\n",
              "    </tr>\n",
              "    <tr>\n",
              "      <th>max</th>\n",
              "      <td>88.976200</td>\n",
              "      <td>95.000000</td>\n",
              "      <td>27.740000</td>\n",
              "      <td>1.000000</td>\n",
              "      <td>0.871000</td>\n",
              "      <td>8.780000</td>\n",
              "      <td>100.000000</td>\n",
              "      <td>12.126500</td>\n",
              "      <td>24.000000</td>\n",
              "      <td>711.000000</td>\n",
              "      <td>23.000000</td>\n",
              "      <td>396.900000</td>\n",
              "      <td>76.000000</td>\n",
              "    </tr>\n",
              "  </tbody>\n",
              "</table>\n",
              "</div>\n",
              "      <button class=\"colab-df-convert\" onclick=\"convertToInteractive('df-acce058b-9f3a-4126-a472-fce7715d54e9')\"\n",
              "              title=\"Convert this dataframe to an interactive table.\"\n",
              "              style=\"display:none;\">\n",
              "        \n",
              "  <svg xmlns=\"http://www.w3.org/2000/svg\" height=\"24px\"viewBox=\"0 0 24 24\"\n",
              "       width=\"24px\">\n",
              "    <path d=\"M0 0h24v24H0V0z\" fill=\"none\"/>\n",
              "    <path d=\"M18.56 5.44l.94 2.06.94-2.06 2.06-.94-2.06-.94-.94-2.06-.94 2.06-2.06.94zm-11 1L8.5 8.5l.94-2.06 2.06-.94-2.06-.94L8.5 2.5l-.94 2.06-2.06.94zm10 10l.94 2.06.94-2.06 2.06-.94-2.06-.94-.94-2.06-.94 2.06-2.06.94z\"/><path d=\"M17.41 7.96l-1.37-1.37c-.4-.4-.92-.59-1.43-.59-.52 0-1.04.2-1.43.59L10.3 9.45l-7.72 7.72c-.78.78-.78 2.05 0 2.83L4 21.41c.39.39.9.59 1.41.59.51 0 1.02-.2 1.41-.59l7.78-7.78 2.81-2.81c.8-.78.8-2.07 0-2.86zM5.41 20L4 18.59l7.72-7.72 1.47 1.35L5.41 20z\"/>\n",
              "  </svg>\n",
              "      </button>\n",
              "      \n",
              "  <style>\n",
              "    .colab-df-container {\n",
              "      display:flex;\n",
              "      flex-wrap:wrap;\n",
              "      gap: 12px;\n",
              "    }\n",
              "\n",
              "    .colab-df-convert {\n",
              "      background-color: #E8F0FE;\n",
              "      border: none;\n",
              "      border-radius: 50%;\n",
              "      cursor: pointer;\n",
              "      display: none;\n",
              "      fill: #1967D2;\n",
              "      height: 32px;\n",
              "      padding: 0 0 0 0;\n",
              "      width: 32px;\n",
              "    }\n",
              "\n",
              "    .colab-df-convert:hover {\n",
              "      background-color: #E2EBFA;\n",
              "      box-shadow: 0px 1px 2px rgba(60, 64, 67, 0.3), 0px 1px 3px 1px rgba(60, 64, 67, 0.15);\n",
              "      fill: #174EA6;\n",
              "    }\n",
              "\n",
              "    [theme=dark] .colab-df-convert {\n",
              "      background-color: #3B4455;\n",
              "      fill: #D2E3FC;\n",
              "    }\n",
              "\n",
              "    [theme=dark] .colab-df-convert:hover {\n",
              "      background-color: #434B5C;\n",
              "      box-shadow: 0px 1px 3px 1px rgba(0, 0, 0, 0.15);\n",
              "      filter: drop-shadow(0px 1px 2px rgba(0, 0, 0, 0.3));\n",
              "      fill: #FFFFFF;\n",
              "    }\n",
              "  </style>\n",
              "\n",
              "      <script>\n",
              "        const buttonEl =\n",
              "          document.querySelector('#df-acce058b-9f3a-4126-a472-fce7715d54e9 button.colab-df-convert');\n",
              "        buttonEl.style.display =\n",
              "          google.colab.kernel.accessAllowed ? 'block' : 'none';\n",
              "\n",
              "        async function convertToInteractive(key) {\n",
              "          const element = document.querySelector('#df-acce058b-9f3a-4126-a472-fce7715d54e9');\n",
              "          const dataTable =\n",
              "            await google.colab.kernel.invokeFunction('convertToInteractive',\n",
              "                                                     [key], {});\n",
              "          if (!dataTable) return;\n",
              "\n",
              "          const docLinkHtml = 'Like what you see? Visit the ' +\n",
              "            '<a target=\"_blank\" href=https://colab.research.google.com/notebooks/data_table.ipynb>data table notebook</a>'\n",
              "            + ' to learn more about interactive tables.';\n",
              "          element.innerHTML = '';\n",
              "          dataTable['output_type'] = 'display_data';\n",
              "          await google.colab.output.renderOutput(dataTable, element);\n",
              "          const docLink = document.createElement('div');\n",
              "          docLink.innerHTML = docLinkHtml;\n",
              "          element.appendChild(docLink);\n",
              "        }\n",
              "      </script>\n",
              "    </div>\n",
              "  </div>\n",
              "  "
            ]
          },
          "metadata": {},
          "execution_count": 91
        }
      ]
    },
    {
      "cell_type": "markdown",
      "source": [
        "# pipeline"
      ],
      "metadata": {
        "id": "PmlrG40ctok6"
      }
    },
    {
      "cell_type": "code",
      "source": [
        "\n",
        "from sklearn.pipeline import Pipeline\n",
        "from sklearn.preprocessing import StandardScaler\n",
        "pipe=Pipeline([\n",
        "    ('imputer',SimpleImputer(strategy='median')),\n",
        "    ('std_scaler',StandardScaler()),\n",
        "])\n",
        "housing_num_tr=pipe.fit_transform(housing)\n",
        "housing_num_tr"
      ],
      "metadata": {
        "colab": {
          "base_uri": "https://localhost:8080/"
        },
        "id": "k6-PWNzhp6Os",
        "outputId": "b6db0ca6-ee09-45b9-8afe-1c623bb3e0b2"
      },
      "execution_count": 92,
      "outputs": [
        {
          "output_type": "execute_result",
          "data": {
            "text/plain": [
              "array([[-0.40201721,  2.52382651, -1.29403561, ..., -1.64205478,\n",
              "         0.14476769, -1.04474851],\n",
              "       [ 0.44627179, -0.4856086 ,  0.9993209 , ...,  0.79991288,\n",
              "         0.44881163,  0.02203975],\n",
              "       [-0.37291558, -0.4856086 ,  1.54735502, ...,  1.25212912,\n",
              "         0.22486141,  0.48498561],\n",
              "       ...,\n",
              "       [-0.38180965, -0.4856086 , -0.55079145, ...,  0.52858314,\n",
              "         0.44881163, -0.03205446],\n",
              "       [-0.26173153, -0.4856086 ,  1.21332895, ..., -1.68727641,\n",
              "        -0.06765479, -0.83214566],\n",
              "       [-0.34873452, -0.4856086 ,  1.54735502, ...,  1.25212912,\n",
              "         0.44881163,  0.68123439]])"
            ]
          },
          "metadata": {},
          "execution_count": 92
        }
      ]
    },
    {
      "cell_type": "markdown",
      "source": [
        "# prediction"
      ],
      "metadata": {
        "id": "rfLMvGwxtsp2"
      }
    },
    {
      "cell_type": "code",
      "source": [
        "\n",
        "from sklearn.ensemble import RandomForestRegressor\n",
        "\n",
        "model=RandomForestRegressor()\n",
        "\n",
        "\n",
        "model.fit(housing_num_tr,housing_labels)"
      ],
      "metadata": {
        "colab": {
          "base_uri": "https://localhost:8080/"
        },
        "id": "0bVp5KaGtk2h",
        "outputId": "ed6dbdc2-0bcd-43d7-b6d6-26f07fb7b9ab"
      },
      "execution_count": 93,
      "outputs": [
        {
          "output_type": "execute_result",
          "data": {
            "text/plain": [
              "RandomForestRegressor()"
            ]
          },
          "metadata": {},
          "execution_count": 93
        }
      ]
    },
    {
      "cell_type": "code",
      "source": [
        "some_data=housing.iloc[:5]\n"
      ],
      "metadata": {
        "id": "-7jxZpJKwbP0"
      },
      "execution_count": 94,
      "outputs": []
    },
    {
      "cell_type": "code",
      "source": [
        "some_labels=housing_labels.iloc[:5]"
      ],
      "metadata": {
        "id": "rJtfR0edwnOa"
      },
      "execution_count": 95,
      "outputs": []
    },
    {
      "cell_type": "code",
      "source": [
        "prepared_data=pipe.transform(some_data)\n"
      ],
      "metadata": {
        "id": "RU4qFivRws5u"
      },
      "execution_count": 96,
      "outputs": []
    },
    {
      "cell_type": "code",
      "source": [
        "model.predict(prepared_data)"
      ],
      "metadata": {
        "colab": {
          "base_uri": "https://localhost:8080/"
        },
        "id": "hRz3UfB_w_Ne",
        "outputId": "24e58489-be26-4fe4-dc9a-c1e418ce76f8"
      },
      "execution_count": 97,
      "outputs": [
        {
          "output_type": "execute_result",
          "data": {
            "text/plain": [
              "array([30.365, 21.584, 17.349, 35.742, 35.52 ])"
            ]
          },
          "metadata": {},
          "execution_count": 97
        }
      ]
    },
    {
      "cell_type": "code",
      "source": [
        "list(some_labels)"
      ],
      "metadata": {
        "colab": {
          "base_uri": "https://localhost:8080/"
        },
        "id": "v4gO56TqxFXQ",
        "outputId": "f3747bb0-a1e8-4991-94c3-33a475cc33b4"
      },
      "execution_count": 98,
      "outputs": [
        {
          "output_type": "execute_result",
          "data": {
            "text/plain": [
              "[29.0, 21.4, 17.4, 36.2, 37.2]"
            ]
          },
          "metadata": {},
          "execution_count": 98
        }
      ]
    },
    {
      "cell_type": "code",
      "source": [
        "from sklearn.metrics import mean_squared_error\n",
        "housing_predictions=model.predict(housing_num_tr)\n",
        "mean_value=mean_squared_error(housing_labels,housing_predictions)\n",
        "rmse=np.sqrt(mean_value)"
      ],
      "metadata": {
        "id": "kiyJWwLuxJnM"
      },
      "execution_count": 99,
      "outputs": []
    },
    {
      "cell_type": "code",
      "source": [
        "rmse"
      ],
      "metadata": {
        "colab": {
          "base_uri": "https://localhost:8080/"
        },
        "id": "vaXhg5pyyERS",
        "outputId": "ea853381-51da-49fe-84ec-a81015c8fd0b"
      },
      "execution_count": 100,
      "outputs": [
        {
          "output_type": "execute_result",
          "data": {
            "text/plain": [
              "1.5104479605953558"
            ]
          },
          "metadata": {},
          "execution_count": 100
        }
      ]
    },
    {
      "cell_type": "markdown",
      "source": [
        "# cross validation"
      ],
      "metadata": {
        "id": "LQoXe2YCy1cN"
      }
    },
    {
      "cell_type": "code",
      "source": [
        "from sklearn import linear_model\n",
        "from sklearn.metrics import fbeta_score, make_scorer\n",
        "from sklearn.model_selection import cross_val_score\n",
        "scores=cross_val_score(model,housing_num_tr,housing_labels,scoring=\"neg_mean_squared_error\",cv=10)\n",
        "rmse_scores=np.sqrt(-scores)"
      ],
      "metadata": {
        "id": "rlHgJLqYy0BT"
      },
      "execution_count": 101,
      "outputs": []
    },
    {
      "cell_type": "code",
      "source": [
        "rmse_scores\n"
      ],
      "metadata": {
        "colab": {
          "base_uri": "https://localhost:8080/"
        },
        "id": "dVCeR5f40nrH",
        "outputId": "4f39e45f-8e98-4d27-8dc2-db8a7fb90644"
      },
      "execution_count": 102,
      "outputs": [
        {
          "output_type": "execute_result",
          "data": {
            "text/plain": [
              "array([2.46981417, 2.6626295 , 6.7208066 , 2.79704807, 2.65570752,\n",
              "       3.39062999, 3.82630975, 2.64743159, 4.53548105, 6.78853343])"
            ]
          },
          "metadata": {},
          "execution_count": 102
        }
      ]
    },
    {
      "cell_type": "code",
      "source": [
        "def print_scores(scores):\n",
        "  print(\"Scores\",scores)\n",
        "  print(\"Mean\",scores.mean())\n",
        "  print(\"Standered deviations\",scores.std())"
      ],
      "metadata": {
        "id": "9OlkuYLO0q9-"
      },
      "execution_count": 103,
      "outputs": []
    },
    {
      "cell_type": "code",
      "source": [
        "print_scores(rmse_scores)"
      ],
      "metadata": {
        "colab": {
          "base_uri": "https://localhost:8080/"
        },
        "id": "RlT76xdL1I34",
        "outputId": "37ac9489-880b-4b74-8220-86444f011fc9"
      },
      "execution_count": 104,
      "outputs": [
        {
          "output_type": "stream",
          "name": "stdout",
          "text": [
            "Scores [2.46981417 2.6626295  6.7208066  2.79704807 2.65570752 3.39062999\n",
            " 3.82630975 2.64743159 4.53548105 6.78853343]\n",
            "Mean 3.849439168050497\n",
            "Standered deviations 1.5765134664291203\n"
          ]
        }
      ]
    },
    {
      "cell_type": "code",
      "source": [
        "X_test=start_test_index.drop(\"MEDV\",axis=1)\n",
        "Y_test=start_test_index[\"MEDV\"].copy()\n",
        "X_test_preapared=pipe.transform(X_test)\n",
        "final_predecition=model.predict(X_test_preapared)\n",
        "final_mse=mean_squared_error(Y_test,final_predecition)\n",
        "final_rmse=np.sqrt(final_mse)"
      ],
      "metadata": {
        "id": "g2HIUWAy1Tf1"
      },
      "execution_count": 105,
      "outputs": []
    },
    {
      "cell_type": "code",
      "source": [
        "print(final_predecition,Y_test)"
      ],
      "metadata": {
        "colab": {
          "base_uri": "https://localhost:8080/"
        },
        "id": "TNErv3RW1Ydn",
        "outputId": "2e6c1c96-9c99-4795-d0a5-c0e5f4e9c6ae"
      },
      "execution_count": 106,
      "outputs": [
        {
          "output_type": "stream",
          "name": "stdout",
          "text": [
            "[32.396 14.419 10.055 35.192 14.736 24.224 21.816 13.611 49.271 21.902\n",
            "  8.182 20.968 32.116 15.109 16.913 20.895 19.925 11.669 31.527 22.415\n",
            " 32.472 21.131 31.543 20.045 23.172 27.569 32.413 11.735 20.128 20.781\n",
            " 18.887 21.009 14.771 27.23  20.475 14.907 15.058 20.272 20.976 31.891\n",
            " 11.611 44.212 20.714 23.099 19.99  14.496 23.411 17.932 21.467 35.657\n",
            " 11.432 34.62  12.077 26.209 22.928 10.214 15.047 19.763 26.5   39.71\n",
            " 15.545 20.768 26.272 48.488 30.087 20.82  31.775 20.657 23.971 35.386\n",
            " 16.342 21.527 20.819 23.068 48.263 41.214 15.69  15.823 15.985 29.744\n",
            " 26.092 30.033 25.408 20.927 23.114 21.412 24.19  25.889 15.426 15.444\n",
            " 18.8   24.033 20.267 18.71  38.398 22.046 22.038 21.487 31.566 20.015\n",
            " 21.007 11.077 47.656] 275    32.0\n",
            "457    13.5\n",
            "437     8.7\n",
            "258    36.0\n",
            "466    19.0\n",
            "       ... \n",
            "41     26.6\n",
            "19     18.2\n",
            "247    20.5\n",
            "392     9.7\n",
            "224    44.8\n",
            "Name: MEDV, Length: 103, dtype: float64\n"
          ]
        }
      ]
    }
  ]
}