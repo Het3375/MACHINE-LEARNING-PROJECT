{
  "nbformat": 4,
  "nbformat_minor": 0,
  "metadata": {
    "colab": {
      "provenance": [],
      "authorship_tag": "ABX9TyOB5ITCTiZEyTj4+89lnByn",
      "include_colab_link": true
    },
    "kernelspec": {
      "name": "python3",
      "display_name": "Python 3"
    },
    "language_info": {
      "name": "python"
    }
  },
  "cells": [
    {
      "cell_type": "markdown",
      "metadata": {
        "id": "view-in-github",
        "colab_type": "text"
      },
      "source": [
        "<a href=\"https://colab.research.google.com/github/Het3375/MACHINE-LEARNING-PROJECT/blob/main/hosp.ipynb\" target=\"_parent\"><img src=\"https://colab.research.google.com/assets/colab-badge.svg\" alt=\"Open In Colab\"/></a>"
      ]
    },
    {
      "cell_type": "code",
      "execution_count": 213,
      "metadata": {
        "id": "ZfF0TVa10l6E"
      },
      "outputs": [],
      "source": [
        "import pandas as pd\n",
        "import numpy as np\n",
        "import matplotlib.pyplot as plt\n"
      ]
    },
    {
      "cell_type": "code",
      "source": [
        "HOSP=pd.read_csv('insurance.csv')\n",
        "HOSP.head()\n",
        "HOSP_NUM=HOSP.drop([\"smoker\",\"sex\",\"region\"],axis=1)\n",
        "HOSP_CATEGO=HOSP[[\"smoker\",\"sex\",\"region\"]].copy()"
      ],
      "metadata": {
        "id": "xxOy44yD0tLK"
      },
      "execution_count": 214,
      "outputs": []
    },
    {
      "cell_type": "code",
      "source": [
        "dataMapping={\n",
        "    \"southwest\":4,\n",
        "    \"southeast\":3,\n",
        "    \"northwest\":2,\n",
        "    \"northeast\":1\n",
        "}\n",
        "dataMapping2={\n",
        "    \"male\":0,\n",
        "    \"female\":1\n",
        "}\n",
        "dataMapping3={\n",
        "    \"yes\":1,\n",
        "    \"no\":0\n",
        "}\n"
      ],
      "metadata": {
        "id": "3lKUtmUb7-y8"
      },
      "execution_count": 215,
      "outputs": []
    },
    {
      "cell_type": "code",
      "source": [
        "HOSP_CATEGO['regions']=HOSP_CATEGO['region'].map(dataMapping)\n",
        "HOSP_CATEGO['gender']=HOSP_CATEGO['sex'].map(dataMapping2)\n",
        "HOSP_CATEGO['smokers']=HOSP_CATEGO['smoker'].map(dataMapping3)\n",
        "\n"
      ],
      "metadata": {
        "id": "NnOvLr0M_Bfb"
      },
      "execution_count": 216,
      "outputs": []
    },
    {
      "cell_type": "code",
      "source": [
        "HOSP_CATEGO_NUM=HOSP_CATEGO.drop([\"smoker\",\"sex\",\"region\"],axis=1)"
      ],
      "metadata": {
        "id": "n4c7GN2oBCDV"
      },
      "execution_count": 217,
      "outputs": []
    },
    {
      "cell_type": "code",
      "source": [
        "HOSP_CATEGO_NUM"
      ],
      "metadata": {
        "colab": {
          "base_uri": "https://localhost:8080/",
          "height": 424
        },
        "id": "HGnB0q-XBcNs",
        "outputId": "e0bc202b-1d2a-42d4-98ad-c0dd0143c88d"
      },
      "execution_count": 218,
      "outputs": [
        {
          "output_type": "execute_result",
          "data": {
            "text/plain": [
              "      regions  gender  smokers\n",
              "0           4       1        1\n",
              "1           3       0        0\n",
              "2           3       0        0\n",
              "3           2       0        0\n",
              "4           2       0        0\n",
              "...       ...     ...      ...\n",
              "1333        2       0        0\n",
              "1334        1       1        0\n",
              "1335        3       1        0\n",
              "1336        4       1        0\n",
              "1337        2       1        1\n",
              "\n",
              "[1338 rows x 3 columns]"
            ],
            "text/html": [
              "\n",
              "  <div id=\"df-3b42782a-a6f8-4575-9e24-28ca11e40036\">\n",
              "    <div class=\"colab-df-container\">\n",
              "      <div>\n",
              "<style scoped>\n",
              "    .dataframe tbody tr th:only-of-type {\n",
              "        vertical-align: middle;\n",
              "    }\n",
              "\n",
              "    .dataframe tbody tr th {\n",
              "        vertical-align: top;\n",
              "    }\n",
              "\n",
              "    .dataframe thead th {\n",
              "        text-align: right;\n",
              "    }\n",
              "</style>\n",
              "<table border=\"1\" class=\"dataframe\">\n",
              "  <thead>\n",
              "    <tr style=\"text-align: right;\">\n",
              "      <th></th>\n",
              "      <th>regions</th>\n",
              "      <th>gender</th>\n",
              "      <th>smokers</th>\n",
              "    </tr>\n",
              "  </thead>\n",
              "  <tbody>\n",
              "    <tr>\n",
              "      <th>0</th>\n",
              "      <td>4</td>\n",
              "      <td>1</td>\n",
              "      <td>1</td>\n",
              "    </tr>\n",
              "    <tr>\n",
              "      <th>1</th>\n",
              "      <td>3</td>\n",
              "      <td>0</td>\n",
              "      <td>0</td>\n",
              "    </tr>\n",
              "    <tr>\n",
              "      <th>2</th>\n",
              "      <td>3</td>\n",
              "      <td>0</td>\n",
              "      <td>0</td>\n",
              "    </tr>\n",
              "    <tr>\n",
              "      <th>3</th>\n",
              "      <td>2</td>\n",
              "      <td>0</td>\n",
              "      <td>0</td>\n",
              "    </tr>\n",
              "    <tr>\n",
              "      <th>4</th>\n",
              "      <td>2</td>\n",
              "      <td>0</td>\n",
              "      <td>0</td>\n",
              "    </tr>\n",
              "    <tr>\n",
              "      <th>...</th>\n",
              "      <td>...</td>\n",
              "      <td>...</td>\n",
              "      <td>...</td>\n",
              "    </tr>\n",
              "    <tr>\n",
              "      <th>1333</th>\n",
              "      <td>2</td>\n",
              "      <td>0</td>\n",
              "      <td>0</td>\n",
              "    </tr>\n",
              "    <tr>\n",
              "      <th>1334</th>\n",
              "      <td>1</td>\n",
              "      <td>1</td>\n",
              "      <td>0</td>\n",
              "    </tr>\n",
              "    <tr>\n",
              "      <th>1335</th>\n",
              "      <td>3</td>\n",
              "      <td>1</td>\n",
              "      <td>0</td>\n",
              "    </tr>\n",
              "    <tr>\n",
              "      <th>1336</th>\n",
              "      <td>4</td>\n",
              "      <td>1</td>\n",
              "      <td>0</td>\n",
              "    </tr>\n",
              "    <tr>\n",
              "      <th>1337</th>\n",
              "      <td>2</td>\n",
              "      <td>1</td>\n",
              "      <td>1</td>\n",
              "    </tr>\n",
              "  </tbody>\n",
              "</table>\n",
              "<p>1338 rows × 3 columns</p>\n",
              "</div>\n",
              "      <button class=\"colab-df-convert\" onclick=\"convertToInteractive('df-3b42782a-a6f8-4575-9e24-28ca11e40036')\"\n",
              "              title=\"Convert this dataframe to an interactive table.\"\n",
              "              style=\"display:none;\">\n",
              "        \n",
              "  <svg xmlns=\"http://www.w3.org/2000/svg\" height=\"24px\"viewBox=\"0 0 24 24\"\n",
              "       width=\"24px\">\n",
              "    <path d=\"M0 0h24v24H0V0z\" fill=\"none\"/>\n",
              "    <path d=\"M18.56 5.44l.94 2.06.94-2.06 2.06-.94-2.06-.94-.94-2.06-.94 2.06-2.06.94zm-11 1L8.5 8.5l.94-2.06 2.06-.94-2.06-.94L8.5 2.5l-.94 2.06-2.06.94zm10 10l.94 2.06.94-2.06 2.06-.94-2.06-.94-.94-2.06-.94 2.06-2.06.94z\"/><path d=\"M17.41 7.96l-1.37-1.37c-.4-.4-.92-.59-1.43-.59-.52 0-1.04.2-1.43.59L10.3 9.45l-7.72 7.72c-.78.78-.78 2.05 0 2.83L4 21.41c.39.39.9.59 1.41.59.51 0 1.02-.2 1.41-.59l7.78-7.78 2.81-2.81c.8-.78.8-2.07 0-2.86zM5.41 20L4 18.59l7.72-7.72 1.47 1.35L5.41 20z\"/>\n",
              "  </svg>\n",
              "      </button>\n",
              "      \n",
              "  <style>\n",
              "    .colab-df-container {\n",
              "      display:flex;\n",
              "      flex-wrap:wrap;\n",
              "      gap: 12px;\n",
              "    }\n",
              "\n",
              "    .colab-df-convert {\n",
              "      background-color: #E8F0FE;\n",
              "      border: none;\n",
              "      border-radius: 50%;\n",
              "      cursor: pointer;\n",
              "      display: none;\n",
              "      fill: #1967D2;\n",
              "      height: 32px;\n",
              "      padding: 0 0 0 0;\n",
              "      width: 32px;\n",
              "    }\n",
              "\n",
              "    .colab-df-convert:hover {\n",
              "      background-color: #E2EBFA;\n",
              "      box-shadow: 0px 1px 2px rgba(60, 64, 67, 0.3), 0px 1px 3px 1px rgba(60, 64, 67, 0.15);\n",
              "      fill: #174EA6;\n",
              "    }\n",
              "\n",
              "    [theme=dark] .colab-df-convert {\n",
              "      background-color: #3B4455;\n",
              "      fill: #D2E3FC;\n",
              "    }\n",
              "\n",
              "    [theme=dark] .colab-df-convert:hover {\n",
              "      background-color: #434B5C;\n",
              "      box-shadow: 0px 1px 3px 1px rgba(0, 0, 0, 0.15);\n",
              "      filter: drop-shadow(0px 1px 2px rgba(0, 0, 0, 0.3));\n",
              "      fill: #FFFFFF;\n",
              "    }\n",
              "  </style>\n",
              "\n",
              "      <script>\n",
              "        const buttonEl =\n",
              "          document.querySelector('#df-3b42782a-a6f8-4575-9e24-28ca11e40036 button.colab-df-convert');\n",
              "        buttonEl.style.display =\n",
              "          google.colab.kernel.accessAllowed ? 'block' : 'none';\n",
              "\n",
              "        async function convertToInteractive(key) {\n",
              "          const element = document.querySelector('#df-3b42782a-a6f8-4575-9e24-28ca11e40036');\n",
              "          const dataTable =\n",
              "            await google.colab.kernel.invokeFunction('convertToInteractive',\n",
              "                                                     [key], {});\n",
              "          if (!dataTable) return;\n",
              "\n",
              "          const docLinkHtml = 'Like what you see? Visit the ' +\n",
              "            '<a target=\"_blank\" href=https://colab.research.google.com/notebooks/data_table.ipynb>data table notebook</a>'\n",
              "            + ' to learn more about interactive tables.';\n",
              "          element.innerHTML = '';\n",
              "          dataTable['output_type'] = 'display_data';\n",
              "          await google.colab.output.renderOutput(dataTable, element);\n",
              "          const docLink = document.createElement('div');\n",
              "          docLink.innerHTML = docLinkHtml;\n",
              "          element.appendChild(docLink);\n",
              "        }\n",
              "      </script>\n",
              "    </div>\n",
              "  </div>\n",
              "  "
            ]
          },
          "metadata": {},
          "execution_count": 218
        }
      ]
    },
    {
      "cell_type": "code",
      "source": [
        "final_stap=pd.concat([HOSP_NUM,HOSP_CATEGO_NUM], axis=1)"
      ],
      "metadata": {
        "id": "4wmJF4hGCpuA"
      },
      "execution_count": 219,
      "outputs": []
    },
    {
      "cell_type": "code",
      "source": [
        "final_stap"
      ],
      "metadata": {
        "colab": {
          "base_uri": "https://localhost:8080/",
          "height": 424
        },
        "id": "zeR_BRxRDw-k",
        "outputId": "7851dc73-6f9e-4735-a391-da5d21191d14"
      },
      "execution_count": 220,
      "outputs": [
        {
          "output_type": "execute_result",
          "data": {
            "text/plain": [
              "      age     bmi  children      charges  regions  gender  smokers\n",
              "0      19  27.900         0  16884.92400        4       1        1\n",
              "1      18  33.770         1   1725.55230        3       0        0\n",
              "2      28  33.000         3   4449.46200        3       0        0\n",
              "3      33  22.705         0  21984.47061        2       0        0\n",
              "4      32  28.880         0   3866.85520        2       0        0\n",
              "...   ...     ...       ...          ...      ...     ...      ...\n",
              "1333   50  30.970         3  10600.54830        2       0        0\n",
              "1334   18  31.920         0   2205.98080        1       1        0\n",
              "1335   18  36.850         0   1629.83350        3       1        0\n",
              "1336   21  25.800         0   2007.94500        4       1        0\n",
              "1337   61  29.070         0  29141.36030        2       1        1\n",
              "\n",
              "[1338 rows x 7 columns]"
            ],
            "text/html": [
              "\n",
              "  <div id=\"df-0de43565-db4a-4c34-984f-da2a9ae1e4ba\">\n",
              "    <div class=\"colab-df-container\">\n",
              "      <div>\n",
              "<style scoped>\n",
              "    .dataframe tbody tr th:only-of-type {\n",
              "        vertical-align: middle;\n",
              "    }\n",
              "\n",
              "    .dataframe tbody tr th {\n",
              "        vertical-align: top;\n",
              "    }\n",
              "\n",
              "    .dataframe thead th {\n",
              "        text-align: right;\n",
              "    }\n",
              "</style>\n",
              "<table border=\"1\" class=\"dataframe\">\n",
              "  <thead>\n",
              "    <tr style=\"text-align: right;\">\n",
              "      <th></th>\n",
              "      <th>age</th>\n",
              "      <th>bmi</th>\n",
              "      <th>children</th>\n",
              "      <th>charges</th>\n",
              "      <th>regions</th>\n",
              "      <th>gender</th>\n",
              "      <th>smokers</th>\n",
              "    </tr>\n",
              "  </thead>\n",
              "  <tbody>\n",
              "    <tr>\n",
              "      <th>0</th>\n",
              "      <td>19</td>\n",
              "      <td>27.900</td>\n",
              "      <td>0</td>\n",
              "      <td>16884.92400</td>\n",
              "      <td>4</td>\n",
              "      <td>1</td>\n",
              "      <td>1</td>\n",
              "    </tr>\n",
              "    <tr>\n",
              "      <th>1</th>\n",
              "      <td>18</td>\n",
              "      <td>33.770</td>\n",
              "      <td>1</td>\n",
              "      <td>1725.55230</td>\n",
              "      <td>3</td>\n",
              "      <td>0</td>\n",
              "      <td>0</td>\n",
              "    </tr>\n",
              "    <tr>\n",
              "      <th>2</th>\n",
              "      <td>28</td>\n",
              "      <td>33.000</td>\n",
              "      <td>3</td>\n",
              "      <td>4449.46200</td>\n",
              "      <td>3</td>\n",
              "      <td>0</td>\n",
              "      <td>0</td>\n",
              "    </tr>\n",
              "    <tr>\n",
              "      <th>3</th>\n",
              "      <td>33</td>\n",
              "      <td>22.705</td>\n",
              "      <td>0</td>\n",
              "      <td>21984.47061</td>\n",
              "      <td>2</td>\n",
              "      <td>0</td>\n",
              "      <td>0</td>\n",
              "    </tr>\n",
              "    <tr>\n",
              "      <th>4</th>\n",
              "      <td>32</td>\n",
              "      <td>28.880</td>\n",
              "      <td>0</td>\n",
              "      <td>3866.85520</td>\n",
              "      <td>2</td>\n",
              "      <td>0</td>\n",
              "      <td>0</td>\n",
              "    </tr>\n",
              "    <tr>\n",
              "      <th>...</th>\n",
              "      <td>...</td>\n",
              "      <td>...</td>\n",
              "      <td>...</td>\n",
              "      <td>...</td>\n",
              "      <td>...</td>\n",
              "      <td>...</td>\n",
              "      <td>...</td>\n",
              "    </tr>\n",
              "    <tr>\n",
              "      <th>1333</th>\n",
              "      <td>50</td>\n",
              "      <td>30.970</td>\n",
              "      <td>3</td>\n",
              "      <td>10600.54830</td>\n",
              "      <td>2</td>\n",
              "      <td>0</td>\n",
              "      <td>0</td>\n",
              "    </tr>\n",
              "    <tr>\n",
              "      <th>1334</th>\n",
              "      <td>18</td>\n",
              "      <td>31.920</td>\n",
              "      <td>0</td>\n",
              "      <td>2205.98080</td>\n",
              "      <td>1</td>\n",
              "      <td>1</td>\n",
              "      <td>0</td>\n",
              "    </tr>\n",
              "    <tr>\n",
              "      <th>1335</th>\n",
              "      <td>18</td>\n",
              "      <td>36.850</td>\n",
              "      <td>0</td>\n",
              "      <td>1629.83350</td>\n",
              "      <td>3</td>\n",
              "      <td>1</td>\n",
              "      <td>0</td>\n",
              "    </tr>\n",
              "    <tr>\n",
              "      <th>1336</th>\n",
              "      <td>21</td>\n",
              "      <td>25.800</td>\n",
              "      <td>0</td>\n",
              "      <td>2007.94500</td>\n",
              "      <td>4</td>\n",
              "      <td>1</td>\n",
              "      <td>0</td>\n",
              "    </tr>\n",
              "    <tr>\n",
              "      <th>1337</th>\n",
              "      <td>61</td>\n",
              "      <td>29.070</td>\n",
              "      <td>0</td>\n",
              "      <td>29141.36030</td>\n",
              "      <td>2</td>\n",
              "      <td>1</td>\n",
              "      <td>1</td>\n",
              "    </tr>\n",
              "  </tbody>\n",
              "</table>\n",
              "<p>1338 rows × 7 columns</p>\n",
              "</div>\n",
              "      <button class=\"colab-df-convert\" onclick=\"convertToInteractive('df-0de43565-db4a-4c34-984f-da2a9ae1e4ba')\"\n",
              "              title=\"Convert this dataframe to an interactive table.\"\n",
              "              style=\"display:none;\">\n",
              "        \n",
              "  <svg xmlns=\"http://www.w3.org/2000/svg\" height=\"24px\"viewBox=\"0 0 24 24\"\n",
              "       width=\"24px\">\n",
              "    <path d=\"M0 0h24v24H0V0z\" fill=\"none\"/>\n",
              "    <path d=\"M18.56 5.44l.94 2.06.94-2.06 2.06-.94-2.06-.94-.94-2.06-.94 2.06-2.06.94zm-11 1L8.5 8.5l.94-2.06 2.06-.94-2.06-.94L8.5 2.5l-.94 2.06-2.06.94zm10 10l.94 2.06.94-2.06 2.06-.94-2.06-.94-.94-2.06-.94 2.06-2.06.94z\"/><path d=\"M17.41 7.96l-1.37-1.37c-.4-.4-.92-.59-1.43-.59-.52 0-1.04.2-1.43.59L10.3 9.45l-7.72 7.72c-.78.78-.78 2.05 0 2.83L4 21.41c.39.39.9.59 1.41.59.51 0 1.02-.2 1.41-.59l7.78-7.78 2.81-2.81c.8-.78.8-2.07 0-2.86zM5.41 20L4 18.59l7.72-7.72 1.47 1.35L5.41 20z\"/>\n",
              "  </svg>\n",
              "      </button>\n",
              "      \n",
              "  <style>\n",
              "    .colab-df-container {\n",
              "      display:flex;\n",
              "      flex-wrap:wrap;\n",
              "      gap: 12px;\n",
              "    }\n",
              "\n",
              "    .colab-df-convert {\n",
              "      background-color: #E8F0FE;\n",
              "      border: none;\n",
              "      border-radius: 50%;\n",
              "      cursor: pointer;\n",
              "      display: none;\n",
              "      fill: #1967D2;\n",
              "      height: 32px;\n",
              "      padding: 0 0 0 0;\n",
              "      width: 32px;\n",
              "    }\n",
              "\n",
              "    .colab-df-convert:hover {\n",
              "      background-color: #E2EBFA;\n",
              "      box-shadow: 0px 1px 2px rgba(60, 64, 67, 0.3), 0px 1px 3px 1px rgba(60, 64, 67, 0.15);\n",
              "      fill: #174EA6;\n",
              "    }\n",
              "\n",
              "    [theme=dark] .colab-df-convert {\n",
              "      background-color: #3B4455;\n",
              "      fill: #D2E3FC;\n",
              "    }\n",
              "\n",
              "    [theme=dark] .colab-df-convert:hover {\n",
              "      background-color: #434B5C;\n",
              "      box-shadow: 0px 1px 3px 1px rgba(0, 0, 0, 0.15);\n",
              "      filter: drop-shadow(0px 1px 2px rgba(0, 0, 0, 0.3));\n",
              "      fill: #FFFFFF;\n",
              "    }\n",
              "  </style>\n",
              "\n",
              "      <script>\n",
              "        const buttonEl =\n",
              "          document.querySelector('#df-0de43565-db4a-4c34-984f-da2a9ae1e4ba button.colab-df-convert');\n",
              "        buttonEl.style.display =\n",
              "          google.colab.kernel.accessAllowed ? 'block' : 'none';\n",
              "\n",
              "        async function convertToInteractive(key) {\n",
              "          const element = document.querySelector('#df-0de43565-db4a-4c34-984f-da2a9ae1e4ba');\n",
              "          const dataTable =\n",
              "            await google.colab.kernel.invokeFunction('convertToInteractive',\n",
              "                                                     [key], {});\n",
              "          if (!dataTable) return;\n",
              "\n",
              "          const docLinkHtml = 'Like what you see? Visit the ' +\n",
              "            '<a target=\"_blank\" href=https://colab.research.google.com/notebooks/data_table.ipynb>data table notebook</a>'\n",
              "            + ' to learn more about interactive tables.';\n",
              "          element.innerHTML = '';\n",
              "          dataTable['output_type'] = 'display_data';\n",
              "          await google.colab.output.renderOutput(dataTable, element);\n",
              "          const docLink = document.createElement('div');\n",
              "          docLink.innerHTML = docLinkHtml;\n",
              "          element.appendChild(docLink);\n",
              "        }\n",
              "      </script>\n",
              "    </div>\n",
              "  </div>\n",
              "  "
            ]
          },
          "metadata": {},
          "execution_count": 220
        }
      ]
    },
    {
      "cell_type": "code",
      "source": [
        "corr_matrix=final_stap.corr()\n",
        "corr_matrix['charges'].sort_values(ascending=False)"
      ],
      "metadata": {
        "colab": {
          "base_uri": "https://localhost:8080/"
        },
        "id": "JwrmhOqwEHuI",
        "outputId": "40fb3332-9362-4f14-cd44-f06562897fb4"
      },
      "execution_count": 221,
      "outputs": [
        {
          "output_type": "execute_result",
          "data": {
            "text/plain": [
              "charges     1.000000\n",
              "smokers     0.787251\n",
              "age         0.299008\n",
              "bmi         0.198341\n",
              "children    0.067998\n",
              "regions    -0.006208\n",
              "gender     -0.057292\n",
              "Name: charges, dtype: float64"
            ]
          },
          "metadata": {},
          "execution_count": 221
        }
      ]
    },
    {
      "cell_type": "code",
      "source": [
        "from pandas.plotting import scatter_matrix\n",
        "features = ['charges', 'smokers', 'regions','gender']\n",
        "scatter_matrix(final_stap[features],figsize=(20,20))"
      ],
      "metadata": {
        "colab": {
          "base_uri": "https://localhost:8080/",
          "height": 1000
        },
        "id": "XwWgX_JUEMD_",
        "outputId": "cd8b1c3c-6621-47d5-d535-48bb41182aea"
      },
      "execution_count": 222,
      "outputs": [
        {
          "output_type": "execute_result",
          "data": {
            "text/plain": [
              "array([[<matplotlib.axes._subplots.AxesSubplot object at 0x7f3a96d92310>,\n",
              "        <matplotlib.axes._subplots.AxesSubplot object at 0x7f3a950e6e50>,\n",
              "        <matplotlib.axes._subplots.AxesSubplot object at 0x7f3a9509f350>,\n",
              "        <matplotlib.axes._subplots.AxesSubplot object at 0x7f3a95057850>],\n",
              "       [<matplotlib.axes._subplots.AxesSubplot object at 0x7f3a9500ed50>,\n",
              "        <matplotlib.axes._subplots.AxesSubplot object at 0x7f3a94fd0290>,\n",
              "        <matplotlib.axes._subplots.AxesSubplot object at 0x7f3a94f88790>,\n",
              "        <matplotlib.axes._subplots.AxesSubplot object at 0x7f3a94f3dc90>],\n",
              "       [<matplotlib.axes._subplots.AxesSubplot object at 0x7f3a94f00210>,\n",
              "        <matplotlib.axes._subplots.AxesSubplot object at 0x7f3a94eb7710>,\n",
              "        <matplotlib.axes._subplots.AxesSubplot object at 0x7f3a94e6dbd0>,\n",
              "        <matplotlib.axes._subplots.AxesSubplot object at 0x7f3a94e30110>],\n",
              "       [<matplotlib.axes._subplots.AxesSubplot object at 0x7f3a94e69610>,\n",
              "        <matplotlib.axes._subplots.AxesSubplot object at 0x7f3a94e1eb10>,\n",
              "        <matplotlib.axes._subplots.AxesSubplot object at 0x7f3a94ddf050>,\n",
              "        <matplotlib.axes._subplots.AxesSubplot object at 0x7f3a94d98550>]],\n",
              "      dtype=object)"
            ]
          },
          "metadata": {},
          "execution_count": 222
        },
        {
          "output_type": "display_data",
          "data": {
            "text/plain": [
              "<Figure size 1440x1440 with 16 Axes>"
            ],
            "image/png": "[encoded data removed]"
          },
          "metadata": {
            "needs_background": "light"
          }
        }
      ]
    },
    {
      "cell_type": "markdown",
      "source": [
        "# Traing-Testing-spliting"
      ],
      "metadata": {
        "id": "XYAB3SSrHdD7"
      }
    },
    {
      "cell_type": "code",
      "source": [
        "from sklearn.model_selection import train_test_split\n",
        "start_train_set,start_test_set=train_test_split(final_stap, test_size=0.2, random_state=42)"
      ],
      "metadata": {
        "id": "WlIjp3udHXRb"
      },
      "execution_count": 223,
      "outputs": []
    },
    {
      "cell_type": "code",
      "source": [
        "start_train_set.shape"
      ],
      "metadata": {
        "colab": {
          "base_uri": "https://localhost:8080/"
        },
        "id": "FCtoVE_xHkLv",
        "outputId": "20c04139-52c7-4218-c597-54dfd3e5d593"
      },
      "execution_count": 224,
      "outputs": [
        {
          "output_type": "execute_result",
          "data": {
            "text/plain": [
              "(1070, 7)"
            ]
          },
          "metadata": {},
          "execution_count": 224
        }
      ]
    },
    {
      "cell_type": "code",
      "source": [
        "start_test_set.shape"
      ],
      "metadata": {
        "colab": {
          "base_uri": "https://localhost:8080/"
        },
        "id": "YL2o1GiCHoS5",
        "outputId": "47259794-5582-4f54-ac61-54cb0f4b12e0"
      },
      "execution_count": 225,
      "outputs": [
        {
          "output_type": "execute_result",
          "data": {
            "text/plain": [
              "(268, 7)"
            ]
          },
          "metadata": {},
          "execution_count": 225
        }
      ]
    },
    {
      "cell_type": "code",
      "source": [
        "from sklearn.model_selection import ShuffleSplit\n",
        "rs = ShuffleSplit(n_splits=5, test_size=0.2, random_state=0)\n",
        "for train_index, test_index in rs.split(final_stap,final_stap['smokers']):\n",
        "  start_train_index=final_stap.loc[train_index]\n",
        "  start_test_index=final_stap.loc[test_index]"
      ],
      "metadata": {
        "id": "7u6-bZ4KHrIq"
      },
      "execution_count": 226,
      "outputs": []
    },
    {
      "cell_type": "code",
      "source": [
        "final_stap=start_train_index.drop(\"charges\",axis=1)\n",
        "\n",
        "final_labls=start_train_index[\"charges\"].copy()"
      ],
      "metadata": {
        "id": "FwAiQq7qH3Ly"
      },
      "execution_count": 227,
      "outputs": []
    },
    {
      "cell_type": "markdown",
      "source": [
        "#Pipeline"
      ],
      "metadata": {
        "id": "lXLBfimuINsF"
      }
    },
    {
      "cell_type": "code",
      "source": [
        "from sklearn.pipeline import Pipeline\n",
        "from sklearn.preprocessing import StandardScaler\n",
        "from sklearn.impute import SimpleImputer\n",
        "pipe=Pipeline([\n",
        "    ('imputer',SimpleImputer(strategy='median')),\n",
        "    ('std_scaler',StandardScaler()),\n",
        "])\n",
        "final_tr=pipe.fit_transform(final_stap)\n",
        "final_tr"
      ],
      "metadata": {
        "colab": {
          "base_uri": "https://localhost:8080/"
        },
        "id": "ud1XA_1-IMS3",
        "outputId": "d28e1a88-2b1d-4ae9-a3a1-da18e07d56f1"
      },
      "execution_count": 228,
      "outputs": [
        {
          "output_type": "execute_result",
          "data": {
            "text/plain": [
              "array([[-0.29168799, -1.18222906,  0.74574866, -1.39210742,  1.0226872 ,\n",
              "        -0.49707771],\n",
              "       [-1.43834663,  1.46518467, -0.08718565, -0.48494851,  1.0226872 ,\n",
              "        -0.49707771],\n",
              "       [ 0.138309  ,  1.57091729, -0.92011995,  0.42221041, -0.97781609,\n",
              "        -0.49707771],\n",
              "       ...,\n",
              "       [ 1.14163531,  1.0529094 , -0.92011995,  1.32936933,  1.0226872 ,\n",
              "        -0.49707771],\n",
              "       [-1.51001279,  0.52506592, -0.92011995,  0.42221041,  1.0226872 ,\n",
              "        -0.49707771],\n",
              "       [-0.93668347, -0.19621088, -0.08718565,  0.42221041,  1.0226872 ,\n",
              "        -0.49707771]])"
            ]
          },
          "metadata": {},
          "execution_count": 228
        }
      ]
    },
    {
      "cell_type": "markdown",
      "source": [
        "# Prediction"
      ],
      "metadata": {
        "id": "M-HpUNy_Ihqc"
      }
    },
    {
      "cell_type": "code",
      "source": [
        "from sklearn.ensemble import RandomForestRegressor\n",
        "# from sklearn import linear_model\n",
        "# from sklearn.linear_model import LinearRegression\n",
        "# from sklearn.tree import DecisionTreeRegressor\n",
        "model=RandomForestRegressor()\n",
        "# model=LinearRegression()\n",
        "# model=DecisionTreeRegressor()\n",
        "\n",
        "\n",
        "\n",
        "\n",
        "model.fit(final_tr,final_labls)"
      ],
      "metadata": {
        "colab": {
          "base_uri": "https://localhost:8080/"
        },
        "id": "F3LHIATaIg_L",
        "outputId": "7b83a31a-bd48-4fe9-c6fd-db78eb9fbdef"
      },
      "execution_count": 229,
      "outputs": [
        {
          "output_type": "execute_result",
          "data": {
            "text/plain": [
              "RandomForestRegressor()"
            ]
          },
          "metadata": {},
          "execution_count": 229
        }
      ]
    },
    {
      "cell_type": "code",
      "source": [
        "some_data=final_stap.iloc[:5]"
      ],
      "metadata": {
        "id": "Rl8YoATCIuvB"
      },
      "execution_count": 230,
      "outputs": []
    },
    {
      "cell_type": "code",
      "source": [
        "some_labels=final_labls.iloc[:5]"
      ],
      "metadata": {
        "id": "f2rzX0QJIwdb"
      },
      "execution_count": 231,
      "outputs": []
    },
    {
      "cell_type": "code",
      "source": [
        "prepared_data=pipe.transform(some_data)"
      ],
      "metadata": {
        "id": "Ten50attI3Cm"
      },
      "execution_count": 232,
      "outputs": []
    },
    {
      "cell_type": "code",
      "source": [
        "model.predict(prepared_data)"
      ],
      "metadata": {
        "colab": {
          "base_uri": "https://localhost:8080/"
        },
        "id": "JXYfDXQsI4Jj",
        "outputId": "8a2e5c46-7b38-41d4-d409-52d78b40303e"
      },
      "execution_count": 233,
      "outputs": [
        {
          "output_type": "execute_result",
          "data": {
            "text/plain": [
              "array([ 7955.9001955,  5045.2486867,  5878.0157883, 13755.9019815,\n",
              "        2088.0636711])"
            ]
          },
          "metadata": {},
          "execution_count": 233
        }
      ]
    },
    {
      "cell_type": "code",
      "source": [
        "list(some_labels)\n"
      ],
      "metadata": {
        "colab": {
          "base_uri": "https://localhost:8080/"
        },
        "id": "xx4u7_pKI7yw",
        "outputId": "efc8d6be-833f-49f4-8eb9-25008f241551"
      },
      "execution_count": 234,
      "outputs": [
        {
          "output_type": "execute_result",
          "data": {
            "text/plain": [
              "[6402.29135, 2730.10785, 5709.1644, 13844.7972, 1906.35825]"
            ]
          },
          "metadata": {},
          "execution_count": 234
        }
      ]
    },
    {
      "cell_type": "code",
      "source": [
        "from sklearn.metrics import mean_squared_error\n",
        "final_prediciton=model.predict(final_tr)\n",
        "mean_value=mean_squared_error(final_labls,final_prediciton)\n",
        "rmse=np.sqrt(mean_value)"
      ],
      "metadata": {
        "id": "HM-R2Bw9I8z4"
      },
      "execution_count": 235,
      "outputs": []
    },
    {
      "cell_type": "code",
      "source": [
        "rmse"
      ],
      "metadata": {
        "colab": {
          "base_uri": "https://localhost:8080/"
        },
        "id": "Vd31A3G6JM5O",
        "outputId": "e5480670-e0da-4b1f-98a5-f7566246a0dd"
      },
      "execution_count": 236,
      "outputs": [
        {
          "output_type": "execute_result",
          "data": {
            "text/plain": [
              "1981.8826032665143"
            ]
          },
          "metadata": {},
          "execution_count": 236
        }
      ]
    },
    {
      "cell_type": "markdown",
      "source": [
        "Cross-validations"
      ],
      "metadata": {
        "id": "55lI_6SCJQNl"
      }
    },
    {
      "cell_type": "code",
      "source": [
        "from sklearn import linear_model\n",
        "from sklearn.metrics import fbeta_score, make_scorer\n",
        "from sklearn.model_selection import cross_val_score\n",
        "scores=cross_val_score(model,final_tr,final_labls,scoring=\"neg_mean_squared_error\",cv=10)\n",
        "rmse_scores=np.sqrt(-scores)"
      ],
      "metadata": {
        "id": "T09mO1GpJNXj"
      },
      "execution_count": 237,
      "outputs": []
    },
    {
      "cell_type": "code",
      "source": [
        "rmse_scores"
      ],
      "metadata": {
        "colab": {
          "base_uri": "https://localhost:8080/"
        },
        "id": "1IL_iISTJbeL",
        "outputId": "40f9377d-9fa6-423a-fe26-b3474a0ba2e0"
      },
      "execution_count": 238,
      "outputs": [
        {
          "output_type": "execute_result",
          "data": {
            "text/plain": [
              "array([5136.28792014, 5858.09653613, 5437.69050863, 3901.35450458,\n",
              "       5268.74297278, 4885.03544613, 5544.42997054, 5261.99539235,\n",
              "       5738.65096316, 3882.01490127])"
            ]
          },
          "metadata": {},
          "execution_count": 238
        }
      ]
    },
    {
      "cell_type": "code",
      "source": [
        "def print_scores(scores):\n",
        "  print(\"Scores\",scores)\n",
        "  print(\"Mean\",scores.mean())\n",
        "  print(\"Standered deviations\",scores.std())"
      ],
      "metadata": {
        "id": "qG29hRTCJb4B"
      },
      "execution_count": 239,
      "outputs": []
    },
    {
      "cell_type": "code",
      "source": [
        "print_scores(rmse_scores)"
      ],
      "metadata": {
        "colab": {
          "base_uri": "https://localhost:8080/"
        },
        "id": "-1NFJ0xfJfw5",
        "outputId": "b94d9ec7-a555-4e05-9160-aea563d0a58f"
      },
      "execution_count": 240,
      "outputs": [
        {
          "output_type": "stream",
          "name": "stdout",
          "text": [
            "Scores [5136.28792014 5858.09653613 5437.69050863 3901.35450458 5268.74297278\n",
            " 4885.03544613 5544.42997054 5261.99539235 5738.65096316 3882.01490127]\n",
            "Mean 5091.429911570284\n",
            "Standered deviations 656.9540181778237\n"
          ]
        }
      ]
    },
    {
      "cell_type": "code",
      "source": [
        "X_test=start_test_index.drop(\"charges\",axis=1)\n",
        "Y_test=start_test_index[\"charges\"].copy()\n",
        "X_test_preapared=pipe.transform(X_test)\n",
        "final_predecition=model.predict(X_test_preapared)\n",
        "final_mse=mean_squared_error(Y_test,final_predecition)\n",
        "final_rmse=np.sqrt(final_mse)"
      ],
      "metadata": {
        "id": "pslQIDuwJg5y"
      },
      "execution_count": 241,
      "outputs": []
    },
    {
      "cell_type": "code",
      "source": [
        "print(final_predecition,Y_test)"
      ],
      "metadata": {
        "colab": {
          "base_uri": "https://localhost:8080/"
        },
        "id": "3JoLJcTVJsp_",
        "outputId": "ea4020be-2de1-4e5f-c10c-b006cd0ee053"
      },
      "execution_count": 242,
      "outputs": [
        {
          "output_type": "stream",
          "name": "stdout",
          "text": [
            "[21765.6566818   9386.3259488   4952.8513455  11151.6808574\n",
            " 14993.5200703  22005.2316215  23861.21646    35864.8645668\n",
            " 11046.55437535  3710.67169835  6889.3323711  16857.114574\n",
            " 12019.7749331  17577.3327295  12044.3096294   2139.54003\n",
            "  5333.6080548   5184.2499298   9709.502209    9167.3038425\n",
            "  6477.304355    4291.2154995   6195.2012651   5059.6336767\n",
            " 18411.7593746  14730.3454191  10589.9288287  41055.189365\n",
            "  5330.1344083   3366.9860621  17492.231197   48572.5460829\n",
            "  3525.15119683  1779.502967   41395.8833728  34591.7269046\n",
            "  4895.5072339  13335.4477059   4653.9616049   6498.5472235\n",
            "  2574.8797198   7030.7796283  23998.750555   25768.92354\n",
            " 20135.108047   28704.1882     11923.1606429   6774.1371772\n",
            "  2158.8037542   4759.757646   13345.7142576  10709.1755344\n",
            " 49225.7261647   2471.3831905   2741.51293458  1715.113564\n",
            " 20898.4728938   2526.9259528   7471.773813   12093.3910516\n",
            " 25501.1873269  29732.2244303   2248.0271485  11069.2978533\n",
            " 16005.7457488  19934.853777   42078.4358906   9757.0617369\n",
            " 46368.9985002  11843.77611022 42100.5141736   9473.2842172\n",
            " 36346.4722479  20615.8893441   2422.70089893 15066.0647023\n",
            "  8165.2574598   9271.8314709  16379.8110445  13653.2269999\n",
            "  8822.6076759  46138.0340585   3008.339395   39911.8898235\n",
            " 19473.7996183  43910.7384925   2031.6397015  13925.143728\n",
            "  2485.61149114 13906.0355096   6912.7885195  13376.0865959\n",
            " 16665.4359367   6900.3692675   9498.8842328   8585.0646901\n",
            " 47803.4107624   9279.4557575  14795.6374555  10762.6071907\n",
            " 20492.451672   11169.8684645   2637.0082635   6789.0417091\n",
            " 14302.9238449  16509.5332349   5130.181143   24954.5831005\n",
            " 14948.8400967  28228.8225709  11334.6502464   5310.4604673\n",
            "  4152.3650604  11149.7898972   3543.5679019  13132.161956\n",
            "  7890.2253      2731.4661553  45948.9278665  47617.5162479\n",
            " 17766.5256509  16941.1880475   6625.3012345  10435.3121312\n",
            " 39335.0909123   4198.6637313   6721.6848235   9576.2946092\n",
            "  6149.5988885  20610.9462835  13434.1576325  11284.5936308\n",
            "  4928.6108431   7102.7582315   9631.5897145   7490.3914932\n",
            "  4432.2520037  13258.5894969   4656.703988    7271.6278761\n",
            " 12985.3791746  21581.0689115  13191.8574346  46251.4159901\n",
            " 12281.8049734  18362.8544416   4808.2039826   6871.1616079\n",
            " 12211.9113015   1662.5278175   5234.8764027  19504.8002666\n",
            " 10885.1008746  46565.9263397   4994.7678206   5686.912982\n",
            "  6310.1697546   7589.8085579   2758.877279    8793.0628644\n",
            " 16707.7382281  14080.121413    9467.7463473   4920.5366945\n",
            " 10554.313701    5886.3804871  23629.8475954  13898.1088009\n",
            " 45446.4360267   9248.5263156  23350.8183249  46386.5096902\n",
            " 23686.641053   11411.3763328   2361.3250312   9894.658053\n",
            "  7620.4406016   6319.5985496  18146.4334933   9098.899796\n",
            "  7059.4924881  13250.4686121   2388.29421242 16252.4161499\n",
            "  4103.2775457  15057.2753972   7001.780239   10146.8357936\n",
            " 11220.6529935  24242.8281785   5212.689251   20582.0671233\n",
            " 21619.1052161  41039.488569   28690.7934202  14060.7661788\n",
            " 12817.1628847  18962.5227358  43676.0189069   6462.1432395\n",
            "  4207.9412494   9524.8481059  11770.9593765  26969.8957375\n",
            "  2639.2574706  35860.7558245   5003.12399683 15981.5103584\n",
            "  2090.5779803  22167.1091375   6635.9179692  28104.5769676\n",
            " 46127.591486   10762.7955756   1434.740543   12211.9274312\n",
            " 39493.6152464  11289.7443982  18871.7665057   5221.640468\n",
            " 13249.3519925  16143.7941066   5524.4304116  13225.8972037\n",
            " 17930.7646127  44252.1288404   6654.4656833   5430.2708681\n",
            " 14224.3346488   7050.1471055   8687.5324943   3866.667382\n",
            " 14827.8518072   4911.648368    9690.4186869  50766.5421838\n",
            "  5168.2064691   7091.2973852   9086.3633706   5573.69329\n",
            "  8308.6612962  18092.5597328   9914.0660125   9998.7881759\n",
            "  5074.04391     9054.9693631   9543.4893156   1730.373872\n",
            " 13344.5331061  16843.250282    5270.2268286   6994.6074591\n",
            "  8365.4001788   4308.3037505   7214.8912049   7325.0114899\n",
            " 11524.113718   16963.8108876   5026.9359565  14381.4575384\n",
            "  5394.0372975   7530.2071682  13143.5631847   9362.9379272\n",
            "  5310.4604673  13947.8936818   8160.7722438   6078.8277604 ] 641     32787.45859\n",
            "1269     8615.30000\n",
            "1017     3987.92600\n",
            "28       2775.19215\n",
            "1264    10370.91255\n",
            "           ...     \n",
            "1174     4433.91590\n",
            "1016     2709.24395\n",
            "654     12244.53100\n",
            "924      6250.43500\n",
            "869      4391.65200\n",
            "Name: charges, Length: 268, dtype: float64\n"
          ]
        }
      ]
    }
  ]
}